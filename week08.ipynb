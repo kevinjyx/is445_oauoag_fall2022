{
 "cells": [
  {
   "cell_type": "code",
   "execution_count": null,
   "id": "a63dd297",
   "metadata": {},
   "outputs": [],
   "source": [
    "%matplotlib inline\n",
    "import cartopy \n",
    "import pandas as pd\n",
    "import matplotlib.pyplot as plt\n",
    "import geopandas \n",
    "import ipyleaflet\n",
    "import numpy as np\n",
    "import bqplot\n",
    "import ipywidgets\n",
    "import contextily as ctx"
   ]
  },
  {
   "cell_type": "code",
   "execution_count": null,
   "id": "3b149cb0",
   "metadata": {},
   "outputs": [],
   "source": [
    "gdf = geopandas.read_file('https://opendata.arcgis.com/datasets/3ecbc7baf1a44110a98f6d4420432000_2.geojson')\n",
    "gdf_owned = gdf.to_crs(epsg=3857)\n",
    "gdf_owned.loc[gdf_owned['DESCRIPTION'].isnull(), 'DESCRIPTION'] = 'Not specified'"
   ]
  },
  {
   "cell_type": "code",
   "execution_count": null,
   "id": "2d43d8d9",
   "metadata": {},
   "outputs": [],
   "source": [
    "interactgdf1 = geopandas.read_file('https://opendata.arcgis.com/datasets/1f75636917604299861fb408bbf79378_1.geojson')\n",
    "gdf_councils = gdf1.to_crs(epsg=3857)"
   ]
  },
  {
   "cell_type": "code",
   "execution_count": null,
   "id": "226bbb25",
   "metadata": {},
   "outputs": [],
   "source": [
    "\n",
    "@ipywidgets.interact(area_type=gdf_owned['DESCRIPTION'].unique())\n",
    "def my_geopandas_plot( area_type):\n",
    "   \n",
    "    gdf_owned_subset = gdf_owned.loc[gdf_owned['DESCRIPTION']==area_type] # our subsetted dataframe\n",
    "    ax = ipywidgets.FloatSlider\n",
    "    fig, ax = plt.subplots(1,1,figsize=(8,8))\n",
    "    \n",
    "    \n",
    "    gdf_councils.plot(ax=ax, color='blue', alpha = 0.3,edgecolor='k')\n",
    "    gdf_owned_subset.plot(column='DESCRIPTION', ax=ax, cmap='rainbow', categorical=True, legend=True)\n",
    "    ctx.add_basemap(ax=ax, crs=gdf_councils.crs.to_string())\n",
    "    plt.show()\n",
    "    chart = gdf_owned.groupby(['DESCRIPTION'])['ShapeSTArea'].sum()\n",
    "    \n",
    "    highlight = []\n",
    "    for value in chart.index: \n",
    "        if value == area_type:\n",
    "            highlight.append('r')\n",
    "        else:\n",
    "            highlight.append('b')\n",
    "    plt.barh(chart.index, chart.values, color = highlight)\n",
    "    \n"
   ]
  }
 ],
 "metadata": {
  "kernelspec": {
   "display_name": "Python 3 (ipykernel)",
   "language": "python",
   "name": "python3"
  },
  "language_info": {
   "codemirror_mode": {
    "name": "ipython",
    "version": 3
   },
   "file_extension": ".py",
   "mimetype": "text/x-python",
   "name": "python",
   "nbconvert_exporter": "python",
   "pygments_lexer": "ipython3",
   "version": "3.7.12"
  }
 },
 "nbformat": 4,
 "nbformat_minor": 5
}
