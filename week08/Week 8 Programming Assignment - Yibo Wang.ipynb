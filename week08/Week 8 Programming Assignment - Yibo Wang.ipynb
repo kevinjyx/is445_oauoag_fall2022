{
 "cells": [
  {
   "cell_type": "code",
   "execution_count": 1,
   "id": "c006b6f1",
   "metadata": {},
   "outputs": [],
   "source": [
    "%matplotlib inline\n",
    "#import cartopy \n",
    "import pandas as pd\n",
    "import matplotlib.pyplot as plt\n",
    "import geopandas \n",
    "import ipyleaflet\n",
    "import numpy as np\n",
    "import bqplot\n",
    "import ipywidgets\n",
    "import contextily as ctx"
   ]
  },
  {
   "cell_type": "code",
   "execution_count": 2,
   "id": "a7301555",
   "metadata": {},
   "outputs": [],
   "source": [
    "gdf = geopandas.read_file('https://opendata.arcgis.com/datasets/3ecbc7baf1a44110a98f6d4420432000_2.geojson')\n",
    "gdf_owned = gdf.to_crs(epsg=3857)\n",
    "gdf_owned.loc[gdf_owned['DESCRIPTION'].isnull(), 'DESCRIPTION'] = 'Not specified'"
   ]
  },
  {
   "cell_type": "code",
   "execution_count": 3,
   "id": "b5f4a87e",
   "metadata": {},
   "outputs": [
    {
     "ename": "NameError",
     "evalue": "name 'gdf1' is not defined",
     "output_type": "error",
     "traceback": [
      "\u001b[1;31m---------------------------------------------------------------------------\u001b[0m",
      "\u001b[1;31mNameError\u001b[0m                                 Traceback (most recent call last)",
      "\u001b[1;32m~\\AppData\\Local\\Temp\\ipykernel_13780\\606676831.py\u001b[0m in \u001b[0;36m<module>\u001b[1;34m\u001b[0m\n\u001b[0;32m      1\u001b[0m \u001b[0minteractgdf1\u001b[0m \u001b[1;33m=\u001b[0m \u001b[0mgeopandas\u001b[0m\u001b[1;33m.\u001b[0m\u001b[0mread_file\u001b[0m\u001b[1;33m(\u001b[0m\u001b[1;34m'https://opendata.arcgis.com/datasets/1f75636917604299861fb408bbf79378_1.geojson'\u001b[0m\u001b[1;33m)\u001b[0m\u001b[1;33m\u001b[0m\u001b[1;33m\u001b[0m\u001b[0m\n\u001b[1;32m----> 2\u001b[1;33m \u001b[0mgdf_councils\u001b[0m \u001b[1;33m=\u001b[0m \u001b[0mgdf1\u001b[0m\u001b[1;33m.\u001b[0m\u001b[0mto_crs\u001b[0m\u001b[1;33m(\u001b[0m\u001b[0mepsg\u001b[0m\u001b[1;33m=\u001b[0m\u001b[1;36m3857\u001b[0m\u001b[1;33m)\u001b[0m\u001b[1;33m\u001b[0m\u001b[1;33m\u001b[0m\u001b[0m\n\u001b[0m",
      "\u001b[1;31mNameError\u001b[0m: name 'gdf1' is not defined"
     ]
    }
   ],
   "source": [
    "interactgdf1 = geopandas.read_file('https://opendata.arcgis.com/datasets/1f75636917604299861fb408bbf79378_1.geojson')\n",
    "gdf_councils = gdf1.to_crs(epsg=3857)"
   ]
  },
  {
   "cell_type": "code",
   "execution_count": 7,
   "id": "5dbfe85a",
   "metadata": {},
   "outputs": [
    {
     "ename": "NameError",
     "evalue": "name 'ipywidgets' is not defined",
     "output_type": "error",
     "traceback": [
      "\u001b[1;31m---------------------------------------------------------------------------\u001b[0m",
      "\u001b[1;31mNameError\u001b[0m                                 Traceback (most recent call last)",
      "\u001b[1;32m~\\AppData\\Local\\Temp\\ipykernel_25640\\135296599.py\u001b[0m in \u001b[0;36m<module>\u001b[1;34m\u001b[0m\n\u001b[1;32m----> 1\u001b[1;33m \u001b[1;33m@\u001b[0m\u001b[0mipywidgets\u001b[0m\u001b[1;33m.\u001b[0m\u001b[0minteract\u001b[0m\u001b[1;33m(\u001b[0m\u001b[0marea_type\u001b[0m\u001b[1;33m=\u001b[0m\u001b[0mgdf_owned\u001b[0m\u001b[1;33m[\u001b[0m\u001b[1;34m'DESCRIPTION'\u001b[0m\u001b[1;33m]\u001b[0m\u001b[1;33m.\u001b[0m\u001b[0munique\u001b[0m\u001b[1;33m(\u001b[0m\u001b[1;33m)\u001b[0m\u001b[1;33m)\u001b[0m\u001b[1;33m\u001b[0m\u001b[1;33m\u001b[0m\u001b[0m\n\u001b[0m\u001b[0;32m      2\u001b[0m \u001b[1;32mdef\u001b[0m \u001b[0mmy_geopandas_plot\u001b[0m\u001b[1;33m(\u001b[0m \u001b[0marea_type\u001b[0m\u001b[1;33m)\u001b[0m\u001b[1;33m:\u001b[0m\u001b[1;33m\u001b[0m\u001b[1;33m\u001b[0m\u001b[0m\n\u001b[0;32m      3\u001b[0m \u001b[1;33m\u001b[0m\u001b[0m\n\u001b[0;32m      4\u001b[0m     \u001b[0mgdf_owned_subset\u001b[0m \u001b[1;33m=\u001b[0m \u001b[0mgdf_owned\u001b[0m\u001b[1;33m.\u001b[0m\u001b[0mloc\u001b[0m\u001b[1;33m[\u001b[0m\u001b[0mgdf_owned\u001b[0m\u001b[1;33m[\u001b[0m\u001b[1;34m'DESCRIPTION'\u001b[0m\u001b[1;33m]\u001b[0m\u001b[1;33m==\u001b[0m\u001b[0marea_type\u001b[0m\u001b[1;33m]\u001b[0m \u001b[1;31m# our subsetted dataframe\u001b[0m\u001b[1;33m\u001b[0m\u001b[1;33m\u001b[0m\u001b[0m\n\u001b[0;32m      5\u001b[0m     \u001b[0max\u001b[0m \u001b[1;33m=\u001b[0m \u001b[0mipywidgets\u001b[0m\u001b[1;33m.\u001b[0m\u001b[0mFloatSlider\u001b[0m\u001b[1;33m\u001b[0m\u001b[1;33m\u001b[0m\u001b[0m\n",
      "\u001b[1;31mNameError\u001b[0m: name 'ipywidgets' is not defined"
     ]
    }
   ],
   "source": [
    "\n",
    "@ipywidgets.interact(area_type=gdf_owned['DESCRIPTION'].unique())\n",
    "def my_geopandas_plot( area_type):\n",
    "   \n",
    "    gdf_owned_subset = gdf_owned.loc[gdf_owned['DESCRIPTION']==area_type] # our subsetted dataframe\n",
    "    ax = ipywidgets.FloatSlider\n",
    "    fig, ax = plt.subplots(1,1,figsize=(8,8))\n",
    "    \n",
    "    \n",
    "    gdf_councils.plot(ax=ax, color='blue', alpha = 0.3,edgecolor='k')\n",
    "    gdf_owned_subset.plot(column='DESCRIPTION', ax=ax, cmap='rainbow', categorical=True, legend=True)\n",
    "    ctx.add_basemap(ax=ax, crs=gdf_councils.crs.to_string())\n",
    "    plt.show()\n",
    "    chart = gdf_owned.groupby(['DESCRIPTION'])['ShapeSTArea'].sum()\n",
    "    \n",
    "    highlight = []\n",
    "    for value in chart.index: \n",
    "        if value == area_type:\n",
    "            highlight.append('r')\n",
    "        else:\n",
    "            highlight.append('b')\n",
    "    plt.barh(chart.index, chart.values, color = highlight)\n",
    "    \n"
   ]
  },
  {
   "cell_type": "code",
   "execution_count": null,
   "id": "ca4d912d",
   "metadata": {},
   "outputs": [],
   "source": []
  },
  {
   "cell_type": "code",
   "execution_count": null,
   "id": "c6851850",
   "metadata": {},
   "outputs": [],
   "source": []
  },
  {
   "cell_type": "code",
   "execution_count": null,
   "id": "aee53bf9",
   "metadata": {},
   "outputs": [],
   "source": []
  },
  {
   "cell_type": "code",
   "execution_count": null,
   "id": "e068507a",
   "metadata": {},
   "outputs": [],
   "source": []
  }
 ],
 "metadata": {
  "kernelspec": {
   "display_name": "Python 3 (ipykernel)",
   "language": "python",
   "name": "python3"
  },
  "language_info": {
   "codemirror_mode": {
    "name": "ipython",
    "version": 3
   },
   "file_extension": ".py",
   "mimetype": "text/x-python",
   "name": "python",
   "nbconvert_exporter": "python",
   "pygments_lexer": "ipython3",
   "version": "3.7.12"
  }
 },
 "nbformat": 4,
 "nbformat_minor": 5
}
