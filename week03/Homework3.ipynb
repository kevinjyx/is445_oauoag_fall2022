{
 "cells": [
  {
   "cell_type": "markdown",
   "id": "f57cd833",
   "metadata": {},
   "source": [
    "# Homework 3"
   ]
  },
  {
   "cell_type": "markdown",
   "id": "1ad24d48",
   "metadata": {},
   "source": [
    "## Yuxuan Jiang yj26@illinois.edu"
   ]
  },
  {
   "cell_type": "markdown",
   "id": "d6e318c0",
   "metadata": {},
   "source": [
    "Firstly, import packages and csv file"
   ]
  },
  {
   "cell_type": "code",
   "execution_count": 1,
   "id": "4fc510b8",
   "metadata": {},
   "outputs": [],
   "source": [
    "import pandas as pd\n",
    "import numpy as np\n",
    "import matplotlib.pyplot as plt"
   ]
  },
  {
   "cell_type": "code",
   "execution_count": 2,
   "id": "d6a93457",
   "metadata": {},
   "outputs": [],
   "source": [
    "url = \"https://raw.githubusercontent.com/UIUC-iSchool-DataViz/is445_bcubcg_fall2022/main/data/licenses_fall2022.csv\"\n",
    "licenses = pd.read_csv(url)"
   ]
  },
  {
   "cell_type": "markdown",
   "id": "9b3ad6be",
   "metadata": {},
   "source": [
    "Then, try to read the licenses file to see how it looks like:"
   ]
  },
  {
   "cell_type": "code",
   "execution_count": 3,
   "id": "9213aad6",
   "metadata": {
    "scrolled": true
   },
   "outputs": [
    {
     "data": {
      "text/html": [
       "<div>\n",
       "<style scoped>\n",
       "    .dataframe tbody tr th:only-of-type {\n",
       "        vertical-align: middle;\n",
       "    }\n",
       "\n",
       "    .dataframe tbody tr th {\n",
       "        vertical-align: top;\n",
       "    }\n",
       "\n",
       "    .dataframe thead th {\n",
       "        text-align: right;\n",
       "    }\n",
       "</style>\n",
       "<table border=\"1\" class=\"dataframe\">\n",
       "  <thead>\n",
       "    <tr style=\"text-align: right;\">\n",
       "      <th></th>\n",
       "      <th>_id</th>\n",
       "      <th>License Type</th>\n",
       "      <th>Description</th>\n",
       "      <th>License Number</th>\n",
       "      <th>License Status</th>\n",
       "      <th>Business</th>\n",
       "      <th>Title</th>\n",
       "      <th>First Name</th>\n",
       "      <th>Middle</th>\n",
       "      <th>Last Name</th>\n",
       "      <th>...</th>\n",
       "      <th>Specialty/Qualifier</th>\n",
       "      <th>Controlled Substance Schedule</th>\n",
       "      <th>Delegated Controlled Substance Schedule</th>\n",
       "      <th>Ever Disciplined</th>\n",
       "      <th>LastModifiedDate</th>\n",
       "      <th>Case Number</th>\n",
       "      <th>Action</th>\n",
       "      <th>Discipline Start Date</th>\n",
       "      <th>Discipline End Date</th>\n",
       "      <th>Discipline Reason</th>\n",
       "    </tr>\n",
       "  </thead>\n",
       "  <tbody>\n",
       "    <tr>\n",
       "      <th>0</th>\n",
       "      <td>1189509</td>\n",
       "      <td>DETECTIVE BOARD</td>\n",
       "      <td>PERMANENT EMPLOYEE REGISTRATION</td>\n",
       "      <td>129446286</td>\n",
       "      <td>NOT RENEWED</td>\n",
       "      <td>N</td>\n",
       "      <td>NaN</td>\n",
       "      <td>EILEEN</td>\n",
       "      <td>NaN</td>\n",
       "      <td>SANTACRUZ</td>\n",
       "      <td>...</td>\n",
       "      <td>None</td>\n",
       "      <td>None</td>\n",
       "      <td>None</td>\n",
       "      <td>N</td>\n",
       "      <td>03/18/2022</td>\n",
       "      <td>None</td>\n",
       "      <td>None</td>\n",
       "      <td>None</td>\n",
       "      <td>None</td>\n",
       "      <td>None</td>\n",
       "    </tr>\n",
       "    <tr>\n",
       "      <th>1</th>\n",
       "      <td>801037</td>\n",
       "      <td>DETECTIVE BOARD</td>\n",
       "      <td>FIREARM CONTROL CARD</td>\n",
       "      <td>229030294.0</td>\n",
       "      <td>NOT RENEWED</td>\n",
       "      <td>N</td>\n",
       "      <td>NaN</td>\n",
       "      <td>DAGMAR</td>\n",
       "      <td>J</td>\n",
       "      <td>NORDLUND</td>\n",
       "      <td>...</td>\n",
       "      <td>None</td>\n",
       "      <td>None</td>\n",
       "      <td>None</td>\n",
       "      <td>N</td>\n",
       "      <td>08/16/2006</td>\n",
       "      <td>None</td>\n",
       "      <td>None</td>\n",
       "      <td>None</td>\n",
       "      <td>None</td>\n",
       "      <td>None</td>\n",
       "    </tr>\n",
       "    <tr>\n",
       "      <th>2</th>\n",
       "      <td>365129</td>\n",
       "      <td>COSMO</td>\n",
       "      <td>LICENSED COSMETOLOGIST</td>\n",
       "      <td>11053076.0</td>\n",
       "      <td>NOT RENEWED</td>\n",
       "      <td>N</td>\n",
       "      <td>NaN</td>\n",
       "      <td>RADOJE</td>\n",
       "      <td>NaN</td>\n",
       "      <td>ZELENOVIC</td>\n",
       "      <td>...</td>\n",
       "      <td>None</td>\n",
       "      <td>None</td>\n",
       "      <td>None</td>\n",
       "      <td>N</td>\n",
       "      <td>05/26/2006</td>\n",
       "      <td>None</td>\n",
       "      <td>None</td>\n",
       "      <td>None</td>\n",
       "      <td>None</td>\n",
       "      <td>None</td>\n",
       "    </tr>\n",
       "    <tr>\n",
       "      <th>3</th>\n",
       "      <td>595427</td>\n",
       "      <td>COSMO</td>\n",
       "      <td>LICENSED COSMETOLOGIST</td>\n",
       "      <td>11295645.0</td>\n",
       "      <td>ACTIVE</td>\n",
       "      <td>N</td>\n",
       "      <td>NaN</td>\n",
       "      <td>BECKY SUE</td>\n",
       "      <td>L</td>\n",
       "      <td>BURROUGHS</td>\n",
       "      <td>...</td>\n",
       "      <td>None</td>\n",
       "      <td>None</td>\n",
       "      <td>None</td>\n",
       "      <td>N</td>\n",
       "      <td>11/12/2021</td>\n",
       "      <td>None</td>\n",
       "      <td>None</td>\n",
       "      <td>None</td>\n",
       "      <td>None</td>\n",
       "      <td>None</td>\n",
       "    </tr>\n",
       "    <tr>\n",
       "      <th>4</th>\n",
       "      <td>653668</td>\n",
       "      <td>COSMO</td>\n",
       "      <td>LICENSED NAIL TECHNICIAN</td>\n",
       "      <td>169006247</td>\n",
       "      <td>NOT RENEWED</td>\n",
       "      <td>N</td>\n",
       "      <td>NaN</td>\n",
       "      <td>BILL G</td>\n",
       "      <td>L</td>\n",
       "      <td>LETNER</td>\n",
       "      <td>...</td>\n",
       "      <td>None</td>\n",
       "      <td>None</td>\n",
       "      <td>None</td>\n",
       "      <td>N</td>\n",
       "      <td>05/30/2006</td>\n",
       "      <td>None</td>\n",
       "      <td>None</td>\n",
       "      <td>None</td>\n",
       "      <td>None</td>\n",
       "      <td>None</td>\n",
       "    </tr>\n",
       "    <tr>\n",
       "      <th>...</th>\n",
       "      <td>...</td>\n",
       "      <td>...</td>\n",
       "      <td>...</td>\n",
       "      <td>...</td>\n",
       "      <td>...</td>\n",
       "      <td>...</td>\n",
       "      <td>...</td>\n",
       "      <td>...</td>\n",
       "      <td>...</td>\n",
       "      <td>...</td>\n",
       "      <td>...</td>\n",
       "      <td>...</td>\n",
       "      <td>...</td>\n",
       "      <td>...</td>\n",
       "      <td>...</td>\n",
       "      <td>...</td>\n",
       "      <td>...</td>\n",
       "      <td>...</td>\n",
       "      <td>...</td>\n",
       "      <td>...</td>\n",
       "      <td>...</td>\n",
       "    </tr>\n",
       "    <tr>\n",
       "      <th>9995</th>\n",
       "      <td>888281</td>\n",
       "      <td>DETECTIVE BOARD</td>\n",
       "      <td>PERMANENT EMPLOYEE REGISTRATION</td>\n",
       "      <td>129002843.0</td>\n",
       "      <td>NOT RENEWED</td>\n",
       "      <td>N</td>\n",
       "      <td>NaN</td>\n",
       "      <td>JENNIFER</td>\n",
       "      <td>NaN</td>\n",
       "      <td>DARROW</td>\n",
       "      <td>...</td>\n",
       "      <td>None</td>\n",
       "      <td>None</td>\n",
       "      <td>None</td>\n",
       "      <td>N</td>\n",
       "      <td>08/03/2006</td>\n",
       "      <td>None</td>\n",
       "      <td>None</td>\n",
       "      <td>None</td>\n",
       "      <td>None</td>\n",
       "      <td>None</td>\n",
       "    </tr>\n",
       "    <tr>\n",
       "      <th>9996</th>\n",
       "      <td>766623</td>\n",
       "      <td>DETECTIVE BOARD</td>\n",
       "      <td>FIREARM CONTROL CARD</td>\n",
       "      <td>229014180</td>\n",
       "      <td>TERMINATED CARD RETURNED</td>\n",
       "      <td>N</td>\n",
       "      <td>NaN</td>\n",
       "      <td>BRYAN</td>\n",
       "      <td>NaN</td>\n",
       "      <td>WILLIAMS</td>\n",
       "      <td>...</td>\n",
       "      <td>None</td>\n",
       "      <td>None</td>\n",
       "      <td>None</td>\n",
       "      <td>N</td>\n",
       "      <td>08/07/2006</td>\n",
       "      <td>None</td>\n",
       "      <td>None</td>\n",
       "      <td>None</td>\n",
       "      <td>None</td>\n",
       "      <td>None</td>\n",
       "    </tr>\n",
       "    <tr>\n",
       "      <th>9997</th>\n",
       "      <td>399398</td>\n",
       "      <td>COSMO</td>\n",
       "      <td>LICENSED COSMETOLOGIST</td>\n",
       "      <td>11120249</td>\n",
       "      <td>NOT RENEWED</td>\n",
       "      <td>N</td>\n",
       "      <td>NaN</td>\n",
       "      <td>EUGENE</td>\n",
       "      <td>NaN</td>\n",
       "      <td>HENDERSON JR</td>\n",
       "      <td>...</td>\n",
       "      <td>None</td>\n",
       "      <td>None</td>\n",
       "      <td>None</td>\n",
       "      <td>N</td>\n",
       "      <td>05/26/2006</td>\n",
       "      <td>None</td>\n",
       "      <td>None</td>\n",
       "      <td>None</td>\n",
       "      <td>None</td>\n",
       "      <td>None</td>\n",
       "    </tr>\n",
       "    <tr>\n",
       "      <th>9998</th>\n",
       "      <td>486713</td>\n",
       "      <td>COSMO</td>\n",
       "      <td>LICENSED COSMETOLOGIST</td>\n",
       "      <td>11193270</td>\n",
       "      <td>ACTIVE</td>\n",
       "      <td>N</td>\n",
       "      <td>NaN</td>\n",
       "      <td>MAHLON DOUGLAS</td>\n",
       "      <td>NaN</td>\n",
       "      <td>CLIFT</td>\n",
       "      <td>...</td>\n",
       "      <td>None</td>\n",
       "      <td>None</td>\n",
       "      <td>None</td>\n",
       "      <td>N</td>\n",
       "      <td>12/17/2021</td>\n",
       "      <td>None</td>\n",
       "      <td>None</td>\n",
       "      <td>None</td>\n",
       "      <td>None</td>\n",
       "      <td>None</td>\n",
       "    </tr>\n",
       "    <tr>\n",
       "      <th>9999</th>\n",
       "      <td>744770</td>\n",
       "      <td>DENTAL</td>\n",
       "      <td>REGISTERED DENTAL HYGIENIST</td>\n",
       "      <td>020012709</td>\n",
       "      <td>ACTIVE</td>\n",
       "      <td>N</td>\n",
       "      <td>NaN</td>\n",
       "      <td>KAREEM</td>\n",
       "      <td>L</td>\n",
       "      <td>HARRIS</td>\n",
       "      <td>...</td>\n",
       "      <td>None</td>\n",
       "      <td>None</td>\n",
       "      <td>None</td>\n",
       "      <td>N</td>\n",
       "      <td>10/25/2021</td>\n",
       "      <td>None</td>\n",
       "      <td>None</td>\n",
       "      <td>None</td>\n",
       "      <td>None</td>\n",
       "      <td>None</td>\n",
       "    </tr>\n",
       "  </tbody>\n",
       "</table>\n",
       "<p>10000 rows × 31 columns</p>\n",
       "</div>"
      ],
      "text/plain": [
       "          _id     License Type                      Description  \\\n",
       "0     1189509  DETECTIVE BOARD  PERMANENT EMPLOYEE REGISTRATION   \n",
       "1      801037  DETECTIVE BOARD             FIREARM CONTROL CARD   \n",
       "2      365129            COSMO           LICENSED COSMETOLOGIST   \n",
       "3      595427            COSMO           LICENSED COSMETOLOGIST   \n",
       "4      653668            COSMO         LICENSED NAIL TECHNICIAN   \n",
       "...       ...              ...                              ...   \n",
       "9995   888281  DETECTIVE BOARD  PERMANENT EMPLOYEE REGISTRATION   \n",
       "9996   766623  DETECTIVE BOARD             FIREARM CONTROL CARD   \n",
       "9997   399398            COSMO           LICENSED COSMETOLOGIST   \n",
       "9998   486713            COSMO           LICENSED COSMETOLOGIST   \n",
       "9999   744770           DENTAL      REGISTERED DENTAL HYGIENIST   \n",
       "\n",
       "     License Number            License Status Business Title      First Name  \\\n",
       "0         129446286               NOT RENEWED        N   NaN          EILEEN   \n",
       "1       229030294.0               NOT RENEWED        N   NaN          DAGMAR   \n",
       "2        11053076.0               NOT RENEWED        N   NaN          RADOJE   \n",
       "3        11295645.0                    ACTIVE        N   NaN       BECKY SUE   \n",
       "4         169006247               NOT RENEWED        N   NaN          BILL G   \n",
       "...             ...                       ...      ...   ...             ...   \n",
       "9995    129002843.0               NOT RENEWED        N   NaN        JENNIFER   \n",
       "9996      229014180  TERMINATED CARD RETURNED        N   NaN           BRYAN   \n",
       "9997       11120249               NOT RENEWED        N   NaN          EUGENE   \n",
       "9998       11193270                    ACTIVE        N   NaN  MAHLON DOUGLAS   \n",
       "9999      020012709                    ACTIVE        N   NaN          KAREEM   \n",
       "\n",
       "     Middle     Last Name  ... Specialty/Qualifier  \\\n",
       "0       NaN     SANTACRUZ  ...                None   \n",
       "1         J      NORDLUND  ...                None   \n",
       "2       NaN     ZELENOVIC  ...                None   \n",
       "3         L     BURROUGHS  ...                None   \n",
       "4         L        LETNER  ...                None   \n",
       "...     ...           ...  ...                 ...   \n",
       "9995    NaN        DARROW  ...                None   \n",
       "9996    NaN      WILLIAMS  ...                None   \n",
       "9997    NaN  HENDERSON JR  ...                None   \n",
       "9998    NaN         CLIFT  ...                None   \n",
       "9999      L        HARRIS  ...                None   \n",
       "\n",
       "     Controlled Substance Schedule Delegated Controlled Substance Schedule  \\\n",
       "0                             None                                    None   \n",
       "1                             None                                    None   \n",
       "2                             None                                    None   \n",
       "3                             None                                    None   \n",
       "4                             None                                    None   \n",
       "...                            ...                                     ...   \n",
       "9995                          None                                    None   \n",
       "9996                          None                                    None   \n",
       "9997                          None                                    None   \n",
       "9998                          None                                    None   \n",
       "9999                          None                                    None   \n",
       "\n",
       "     Ever Disciplined LastModifiedDate Case Number Action  \\\n",
       "0                   N       03/18/2022        None   None   \n",
       "1                   N       08/16/2006        None   None   \n",
       "2                   N       05/26/2006        None   None   \n",
       "3                   N       11/12/2021        None   None   \n",
       "4                   N       05/30/2006        None   None   \n",
       "...               ...              ...         ...    ...   \n",
       "9995                N       08/03/2006        None   None   \n",
       "9996                N       08/07/2006        None   None   \n",
       "9997                N       05/26/2006        None   None   \n",
       "9998                N       12/17/2021        None   None   \n",
       "9999                N       10/25/2021        None   None   \n",
       "\n",
       "     Discipline Start Date Discipline End Date Discipline Reason  \n",
       "0                     None                None              None  \n",
       "1                     None                None              None  \n",
       "2                     None                None              None  \n",
       "3                     None                None              None  \n",
       "4                     None                None              None  \n",
       "...                    ...                 ...               ...  \n",
       "9995                  None                None              None  \n",
       "9996                  None                None              None  \n",
       "9997                  None                None              None  \n",
       "9998                  None                None              None  \n",
       "9999                  None                None              None  \n",
       "\n",
       "[10000 rows x 31 columns]"
      ]
     },
     "execution_count": 3,
     "metadata": {},
     "output_type": "execute_result"
    }
   ],
   "source": [
    "licenses"
   ]
  },
  {
   "cell_type": "code",
   "execution_count": 4,
   "id": "06c0dbc1",
   "metadata": {},
   "outputs": [
    {
     "data": {
      "text/plain": [
       "Index(['_id', 'License Type', 'Description', 'License Number',\n",
       "       'License Status', 'Business', 'Title', 'First Name', 'Middle',\n",
       "       'Last Name', 'Prefix', 'Suffix', 'Business Name', 'BusinessDBA',\n",
       "       'Original Issue Date', 'Effective Date', 'Expiration Date', 'City',\n",
       "       'State', 'Zip', 'County', 'Specialty/Qualifier',\n",
       "       'Controlled Substance Schedule',\n",
       "       'Delegated Controlled Substance Schedule', 'Ever Disciplined',\n",
       "       'LastModifiedDate', 'Case Number', 'Action', 'Discipline Start Date',\n",
       "       'Discipline End Date', 'Discipline Reason'],\n",
       "      dtype='object')"
      ]
     },
     "execution_count": 4,
     "metadata": {},
     "output_type": "execute_result"
    }
   ],
   "source": [
    "licenses.columns"
   ]
  },
  {
   "cell_type": "markdown",
   "id": "cc2500a9",
   "metadata": {},
   "source": [
    "## 1. Relationship between the Original Issue Year and the Expiration Year"
   ]
  },
  {
   "cell_type": "markdown",
   "id": "23eebe26",
   "metadata": {},
   "source": [
    "Firstly, print out the original issue year"
   ]
  },
  {
   "cell_type": "code",
   "execution_count": 5,
   "id": "1c84de1d",
   "metadata": {},
   "outputs": [
    {
     "data": {
      "text/plain": [
       "0       2020.0\n",
       "1       1995.0\n",
       "2       1945.0\n",
       "3       2011.0\n",
       "4       1995.0\n",
       "         ...  \n",
       "9995    1987.0\n",
       "9996    1989.0\n",
       "9997    1966.0\n",
       "9998    1983.0\n",
       "9999    2008.0\n",
       "Name: Original Issue Year, Length: 10000, dtype: float64"
      ]
     },
     "execution_count": 5,
     "metadata": {},
     "output_type": "execute_result"
    }
   ],
   "source": [
    "licenses['Original Issue Date'] = pd.to_datetime(licenses['Original Issue Date'],errors='coerce', format='%m/%d/%Y')\n",
    "licenses['Original Issue Year'] = licenses['Original Issue Date'].dt.year\n",
    "licenses['Original Issue Year']"
   ]
  },
  {
   "cell_type": "markdown",
   "id": "7e508fb9",
   "metadata": {},
   "source": [
    "Then, print out the expiration year data"
   ]
  },
  {
   "cell_type": "code",
   "execution_count": 6,
   "id": "01ef6495",
   "metadata": {},
   "outputs": [
    {
     "data": {
      "text/plain": [
       "0       2021.0\n",
       "1       2003.0\n",
       "2       1983.0\n",
       "3       2023.0\n",
       "4       2002.0\n",
       "         ...  \n",
       "9995    1997.0\n",
       "9996    1990.0\n",
       "9997       NaN\n",
       "9998    2023.0\n",
       "9999    2024.0\n",
       "Name: Expiration Year, Length: 10000, dtype: float64"
      ]
     },
     "execution_count": 6,
     "metadata": {},
     "output_type": "execute_result"
    }
   ],
   "source": [
    "licenses['Expiration Date'] = pd.to_datetime(licenses['Expiration Date'],errors='coerce', format='%m/%d/%Y')\n",
    "licenses['Expiration Year'] = licenses['Expiration Date'].dt.year\n",
    "licenses['Expiration Year']"
   ]
  },
  {
   "cell_type": "markdown",
   "id": "eb45e010",
   "metadata": {},
   "source": [
    "Lastly, plot out all the data from original issue year and expiration year data and set graph type into scatter plot. "
   ]
  },
  {
   "cell_type": "code",
   "execution_count": 7,
   "id": "a4da0eb7",
   "metadata": {
    "scrolled": true
   },
   "outputs": [
    {
     "data": {
      "text/plain": [
       "<matplotlib.axes._subplots.AxesSubplot at 0x28f3e7f9b48>"
      ]
     },
     "execution_count": 7,
     "metadata": {},
     "output_type": "execute_result"
    },
    {
     "data": {
      "image/png": "[encoded data removed]",
      "text/plain": [
       "<Figure size 2000x500 with 1 Axes>"
      ]
     },
     "metadata": {},
     "output_type": "display_data"
    }
   ],
   "source": [
    "licenses.plot(x='Original Issue Year', y='Expiration Year', title='Relationship between the Original Issue Year and the Expiration Year',figsize=(20,5),kind='scatter')"
   ]
  },
  {
   "cell_type": "markdown",
   "id": "892600fa",
   "metadata": {},
   "source": [
    "As we can see in the graph, there are some outliers with expiration year of 2100. There are a lot of licenses issued between 1980 and 2000. Also, start from 2000, there are less and lees licenses issued and mostly will expired before 2040.  "
   ]
  },
  {
   "cell_type": "markdown",
   "id": "217654bd",
   "metadata": {},
   "source": [
    "## 2. Average Effective Year as a function of License Type"
   ]
  },
  {
   "cell_type": "markdown",
   "id": "16482f8c",
   "metadata": {},
   "source": [
    "Firstly, print out all the effective date. "
   ]
  },
  {
   "cell_type": "code",
   "execution_count": 8,
   "id": "ef791b2c",
   "metadata": {},
   "outputs": [
    {
     "data": {
      "text/plain": [
       "0       02/03/2020\n",
       "1       02/07/1995\n",
       "2       02/28/1945\n",
       "3       11/12/2021\n",
       "4       07/12/1995\n",
       "           ...    \n",
       "9995    08/04/1987\n",
       "9996    05/22/1989\n",
       "9997    05/09/1966\n",
       "9998    12/17/2021\n",
       "9999    10/25/2021\n",
       "Name: Effective Date, Length: 10000, dtype: object"
      ]
     },
     "execution_count": 8,
     "metadata": {},
     "output_type": "execute_result"
    }
   ],
   "source": [
    "licenses['Effective Date']"
   ]
  },
  {
   "cell_type": "markdown",
   "id": "299adce5",
   "metadata": {},
   "source": [
    "Then, format the date into month/date/year and print out all the effective year instead of date. "
   ]
  },
  {
   "cell_type": "code",
   "execution_count": 9,
   "id": "9f79de66",
   "metadata": {},
   "outputs": [
    {
     "data": {
      "text/plain": [
       "0       2020.0\n",
       "1       1995.0\n",
       "2       1945.0\n",
       "3       2021.0\n",
       "4       1995.0\n",
       "         ...  \n",
       "9995    1987.0\n",
       "9996    1989.0\n",
       "9997    1966.0\n",
       "9998    2021.0\n",
       "9999    2021.0\n",
       "Name: Effective Year, Length: 10000, dtype: float64"
      ]
     },
     "execution_count": 9,
     "metadata": {},
     "output_type": "execute_result"
    }
   ],
   "source": [
    "licenses['Effective Date'] = pd.to_datetime(licenses['Effective Date'],errors='coerce', format='%m/%d/%Y')\n",
    "licenses['Effective Year'] = licenses['Effective Date'].dt.year\n",
    "licenses['Effective Year']"
   ]
  },
  {
   "cell_type": "markdown",
   "id": "674a8f91",
   "metadata": {},
   "source": [
    "After that, group the License Type using groupby. "
   ]
  },
  {
   "cell_type": "code",
   "execution_count": 10,
   "id": "66ef3083",
   "metadata": {
    "scrolled": false
   },
   "outputs": [
    {
     "data": {
      "text/html": [
       "<div>\n",
       "<style scoped>\n",
       "    .dataframe tbody tr th:only-of-type {\n",
       "        vertical-align: middle;\n",
       "    }\n",
       "\n",
       "    .dataframe tbody tr th {\n",
       "        vertical-align: top;\n",
       "    }\n",
       "\n",
       "    .dataframe thead th {\n",
       "        text-align: right;\n",
       "    }\n",
       "</style>\n",
       "<table border=\"1\" class=\"dataframe\">\n",
       "  <thead>\n",
       "    <tr style=\"text-align: right;\">\n",
       "      <th></th>\n",
       "      <th>count</th>\n",
       "      <th>mean</th>\n",
       "      <th>std</th>\n",
       "      <th>min</th>\n",
       "      <th>25%</th>\n",
       "      <th>50%</th>\n",
       "      <th>75%</th>\n",
       "      <th>max</th>\n",
       "    </tr>\n",
       "    <tr>\n",
       "      <th>License Type</th>\n",
       "      <th></th>\n",
       "      <th></th>\n",
       "      <th></th>\n",
       "      <th></th>\n",
       "      <th></th>\n",
       "      <th></th>\n",
       "      <th></th>\n",
       "      <th></th>\n",
       "    </tr>\n",
       "  </thead>\n",
       "  <tbody>\n",
       "    <tr>\n",
       "      <th>APPRAISAL</th>\n",
       "      <td>5.0</td>\n",
       "      <td>2009.600000</td>\n",
       "      <td>3.974921</td>\n",
       "      <td>2004.0</td>\n",
       "      <td>2007.00</td>\n",
       "      <td>2011.0</td>\n",
       "      <td>2013.00</td>\n",
       "      <td>2013.0</td>\n",
       "    </tr>\n",
       "    <tr>\n",
       "      <th>ARCHITECT</th>\n",
       "      <td>18.0</td>\n",
       "      <td>2011.611111</td>\n",
       "      <td>16.403511</td>\n",
       "      <td>1950.0</td>\n",
       "      <td>2010.50</td>\n",
       "      <td>2017.0</td>\n",
       "      <td>2020.00</td>\n",
       "      <td>2021.0</td>\n",
       "    </tr>\n",
       "    <tr>\n",
       "      <th>ATHLETIC TRAINER</th>\n",
       "      <td>14.0</td>\n",
       "      <td>2015.357143</td>\n",
       "      <td>7.023117</td>\n",
       "      <td>2000.0</td>\n",
       "      <td>2011.25</td>\n",
       "      <td>2017.5</td>\n",
       "      <td>2021.50</td>\n",
       "      <td>2022.0</td>\n",
       "    </tr>\n",
       "    <tr>\n",
       "      <th>ATHLETICS</th>\n",
       "      <td>15.0</td>\n",
       "      <td>2000.933333</td>\n",
       "      <td>16.210520</td>\n",
       "      <td>1976.0</td>\n",
       "      <td>1984.00</td>\n",
       "      <td>2007.0</td>\n",
       "      <td>2016.00</td>\n",
       "      <td>2019.0</td>\n",
       "    </tr>\n",
       "    <tr>\n",
       "      <th>AUCTIONEER</th>\n",
       "      <td>2.0</td>\n",
       "      <td>2015.000000</td>\n",
       "      <td>7.071068</td>\n",
       "      <td>2010.0</td>\n",
       "      <td>2012.50</td>\n",
       "      <td>2015.0</td>\n",
       "      <td>2017.50</td>\n",
       "      <td>2020.0</td>\n",
       "    </tr>\n",
       "    <tr>\n",
       "      <th>CEMETERY OVERSIGHT</th>\n",
       "      <td>1.0</td>\n",
       "      <td>2016.000000</td>\n",
       "      <td>NaN</td>\n",
       "      <td>2016.0</td>\n",
       "      <td>2016.00</td>\n",
       "      <td>2016.0</td>\n",
       "      <td>2016.00</td>\n",
       "      <td>2016.0</td>\n",
       "    </tr>\n",
       "    <tr>\n",
       "      <th>CLIN PSYCHOLOGIST</th>\n",
       "      <td>11.0</td>\n",
       "      <td>2018.363636</td>\n",
       "      <td>4.717472</td>\n",
       "      <td>2008.0</td>\n",
       "      <td>2020.00</td>\n",
       "      <td>2020.0</td>\n",
       "      <td>2020.00</td>\n",
       "      <td>2022.0</td>\n",
       "    </tr>\n",
       "    <tr>\n",
       "      <th>COLLECTION AGENCY</th>\n",
       "      <td>19.0</td>\n",
       "      <td>2010.315789</td>\n",
       "      <td>12.087885</td>\n",
       "      <td>1980.0</td>\n",
       "      <td>2002.50</td>\n",
       "      <td>2012.0</td>\n",
       "      <td>2021.00</td>\n",
       "      <td>2022.0</td>\n",
       "    </tr>\n",
       "    <tr>\n",
       "      <th>COMM ASSOC MGR</th>\n",
       "      <td>37.0</td>\n",
       "      <td>2018.837838</td>\n",
       "      <td>3.068781</td>\n",
       "      <td>2011.0</td>\n",
       "      <td>2017.00</td>\n",
       "      <td>2021.0</td>\n",
       "      <td>2021.00</td>\n",
       "      <td>2022.0</td>\n",
       "    </tr>\n",
       "    <tr>\n",
       "      <th>COSMO</th>\n",
       "      <td>3092.0</td>\n",
       "      <td>2002.904592</td>\n",
       "      <td>20.665793</td>\n",
       "      <td>1926.0</td>\n",
       "      <td>1987.00</td>\n",
       "      <td>2012.0</td>\n",
       "      <td>2020.00</td>\n",
       "      <td>2022.0</td>\n",
       "    </tr>\n",
       "    <tr>\n",
       "      <th>DENTAL</th>\n",
       "      <td>701.0</td>\n",
       "      <td>2005.480742</td>\n",
       "      <td>23.571138</td>\n",
       "      <td>1912.0</td>\n",
       "      <td>1996.00</td>\n",
       "      <td>2018.0</td>\n",
       "      <td>2021.00</td>\n",
       "      <td>2022.0</td>\n",
       "    </tr>\n",
       "    <tr>\n",
       "      <th>DESIGN FIRM</th>\n",
       "      <td>71.0</td>\n",
       "      <td>2013.281690</td>\n",
       "      <td>8.162953</td>\n",
       "      <td>1995.0</td>\n",
       "      <td>2009.00</td>\n",
       "      <td>2015.0</td>\n",
       "      <td>2021.00</td>\n",
       "      <td>2022.0</td>\n",
       "    </tr>\n",
       "    <tr>\n",
       "      <th>DETECT. DECEPTION</th>\n",
       "      <td>2.0</td>\n",
       "      <td>1980.500000</td>\n",
       "      <td>9.192388</td>\n",
       "      <td>1974.0</td>\n",
       "      <td>1977.25</td>\n",
       "      <td>1980.5</td>\n",
       "      <td>1983.75</td>\n",
       "      <td>1987.0</td>\n",
       "    </tr>\n",
       "    <tr>\n",
       "      <th>DETECTIVE BOARD</th>\n",
       "      <td>4867.0</td>\n",
       "      <td>2005.570372</td>\n",
       "      <td>12.236425</td>\n",
       "      <td>1974.0</td>\n",
       "      <td>1995.00</td>\n",
       "      <td>2009.0</td>\n",
       "      <td>2017.00</td>\n",
       "      <td>2022.0</td>\n",
       "    </tr>\n",
       "    <tr>\n",
       "      <th>DIETETIC AND NUTRITION</th>\n",
       "      <td>66.0</td>\n",
       "      <td>2016.166667</td>\n",
       "      <td>6.909488</td>\n",
       "      <td>2001.0</td>\n",
       "      <td>2011.50</td>\n",
       "      <td>2020.0</td>\n",
       "      <td>2021.00</td>\n",
       "      <td>2022.0</td>\n",
       "    </tr>\n",
       "    <tr>\n",
       "      <th>ENVIRON. HLTH PRACT</th>\n",
       "      <td>13.0</td>\n",
       "      <td>2010.000000</td>\n",
       "      <td>8.774964</td>\n",
       "      <td>1996.0</td>\n",
       "      <td>2003.00</td>\n",
       "      <td>2008.0</td>\n",
       "      <td>2018.00</td>\n",
       "      <td>2022.0</td>\n",
       "    </tr>\n",
       "    <tr>\n",
       "      <th>FUNERAL AND EMBALMER</th>\n",
       "      <td>58.0</td>\n",
       "      <td>2000.241379</td>\n",
       "      <td>16.334562</td>\n",
       "      <td>1973.0</td>\n",
       "      <td>1991.00</td>\n",
       "      <td>1995.0</td>\n",
       "      <td>2020.00</td>\n",
       "      <td>2021.0</td>\n",
       "    </tr>\n",
       "    <tr>\n",
       "      <th>GEOLOGY</th>\n",
       "      <td>7.0</td>\n",
       "      <td>2016.857143</td>\n",
       "      <td>8.610625</td>\n",
       "      <td>1998.0</td>\n",
       "      <td>2018.00</td>\n",
       "      <td>2021.0</td>\n",
       "      <td>2021.00</td>\n",
       "      <td>2021.0</td>\n",
       "    </tr>\n",
       "    <tr>\n",
       "      <th>HME AND SERVICES PROV</th>\n",
       "      <td>16.0</td>\n",
       "      <td>2012.937500</td>\n",
       "      <td>7.169089</td>\n",
       "      <td>2003.0</td>\n",
       "      <td>2006.00</td>\n",
       "      <td>2013.5</td>\n",
       "      <td>2021.00</td>\n",
       "      <td>2021.0</td>\n",
       "    </tr>\n",
       "    <tr>\n",
       "      <th>HOME INSPECTOR</th>\n",
       "      <td>46.0</td>\n",
       "      <td>2013.086957</td>\n",
       "      <td>6.456095</td>\n",
       "      <td>2003.0</td>\n",
       "      <td>2007.25</td>\n",
       "      <td>2013.0</td>\n",
       "      <td>2020.00</td>\n",
       "      <td>2022.0</td>\n",
       "    </tr>\n",
       "    <tr>\n",
       "      <th>IDPR</th>\n",
       "      <td>9.0</td>\n",
       "      <td>2018.777778</td>\n",
       "      <td>3.767552</td>\n",
       "      <td>2012.0</td>\n",
       "      <td>2016.00</td>\n",
       "      <td>2021.0</td>\n",
       "      <td>2021.00</td>\n",
       "      <td>2022.0</td>\n",
       "    </tr>\n",
       "    <tr>\n",
       "      <th>INTERIOR DESIGN</th>\n",
       "      <td>22.0</td>\n",
       "      <td>2005.272727</td>\n",
       "      <td>12.325667</td>\n",
       "      <td>1992.0</td>\n",
       "      <td>1992.00</td>\n",
       "      <td>2008.0</td>\n",
       "      <td>2018.50</td>\n",
       "      <td>2022.0</td>\n",
       "    </tr>\n",
       "    <tr>\n",
       "      <th>LAND SURVEYOR BOARD</th>\n",
       "      <td>16.0</td>\n",
       "      <td>1998.937500</td>\n",
       "      <td>20.827766</td>\n",
       "      <td>1951.0</td>\n",
       "      <td>1988.75</td>\n",
       "      <td>2002.0</td>\n",
       "      <td>2020.00</td>\n",
       "      <td>2020.0</td>\n",
       "    </tr>\n",
       "    <tr>\n",
       "      <th>LANDSCAPE ARCHITECT</th>\n",
       "      <td>7.0</td>\n",
       "      <td>2008.142857</td>\n",
       "      <td>12.088956</td>\n",
       "      <td>1992.0</td>\n",
       "      <td>1999.50</td>\n",
       "      <td>2009.0</td>\n",
       "      <td>2019.00</td>\n",
       "      <td>2019.0</td>\n",
       "    </tr>\n",
       "    <tr>\n",
       "      <th>LIMITED LIABILITY CO</th>\n",
       "      <td>21.0</td>\n",
       "      <td>2018.904762</td>\n",
       "      <td>2.547641</td>\n",
       "      <td>2013.0</td>\n",
       "      <td>2017.00</td>\n",
       "      <td>2019.0</td>\n",
       "      <td>2021.00</td>\n",
       "      <td>2021.0</td>\n",
       "    </tr>\n",
       "    <tr>\n",
       "      <th>MAR AND FAM THERAPIST</th>\n",
       "      <td>14.0</td>\n",
       "      <td>2017.000000</td>\n",
       "      <td>4.574175</td>\n",
       "      <td>2005.0</td>\n",
       "      <td>2015.00</td>\n",
       "      <td>2019.0</td>\n",
       "      <td>2020.00</td>\n",
       "      <td>2021.0</td>\n",
       "    </tr>\n",
       "    <tr>\n",
       "      <th>MASSAGE LICENSING BD</th>\n",
       "      <td>52.0</td>\n",
       "      <td>2014.673077</td>\n",
       "      <td>5.617623</td>\n",
       "      <td>2004.0</td>\n",
       "      <td>2010.00</td>\n",
       "      <td>2016.0</td>\n",
       "      <td>2020.00</td>\n",
       "      <td>2021.0</td>\n",
       "    </tr>\n",
       "    <tr>\n",
       "      <th>MEDICAL BOARD</th>\n",
       "      <td>6.0</td>\n",
       "      <td>1984.000000</td>\n",
       "      <td>22.829805</td>\n",
       "      <td>1949.0</td>\n",
       "      <td>1978.25</td>\n",
       "      <td>1985.0</td>\n",
       "      <td>1988.00</td>\n",
       "      <td>2020.0</td>\n",
       "    </tr>\n",
       "  </tbody>\n",
       "</table>\n",
       "</div>"
      ],
      "text/plain": [
       "                         count         mean        std     min      25%  \\\n",
       "License Type                                                              \n",
       "APPRAISAL                  5.0  2009.600000   3.974921  2004.0  2007.00   \n",
       "ARCHITECT                 18.0  2011.611111  16.403511  1950.0  2010.50   \n",
       "ATHLETIC TRAINER          14.0  2015.357143   7.023117  2000.0  2011.25   \n",
       "ATHLETICS                 15.0  2000.933333  16.210520  1976.0  1984.00   \n",
       "AUCTIONEER                 2.0  2015.000000   7.071068  2010.0  2012.50   \n",
       "CEMETERY OVERSIGHT         1.0  2016.000000        NaN  2016.0  2016.00   \n",
       "CLIN PSYCHOLOGIST         11.0  2018.363636   4.717472  2008.0  2020.00   \n",
       "COLLECTION AGENCY         19.0  2010.315789  12.087885  1980.0  2002.50   \n",
       "COMM ASSOC MGR            37.0  2018.837838   3.068781  2011.0  2017.00   \n",
       "COSMO                   3092.0  2002.904592  20.665793  1926.0  1987.00   \n",
       "DENTAL                   701.0  2005.480742  23.571138  1912.0  1996.00   \n",
       "DESIGN FIRM               71.0  2013.281690   8.162953  1995.0  2009.00   \n",
       "DETECT. DECEPTION          2.0  1980.500000   9.192388  1974.0  1977.25   \n",
       "DETECTIVE BOARD         4867.0  2005.570372  12.236425  1974.0  1995.00   \n",
       "DIETETIC AND NUTRITION    66.0  2016.166667   6.909488  2001.0  2011.50   \n",
       "ENVIRON. HLTH PRACT       13.0  2010.000000   8.774964  1996.0  2003.00   \n",
       "FUNERAL AND EMBALMER      58.0  2000.241379  16.334562  1973.0  1991.00   \n",
       "GEOLOGY                    7.0  2016.857143   8.610625  1998.0  2018.00   \n",
       "HME AND SERVICES PROV     16.0  2012.937500   7.169089  2003.0  2006.00   \n",
       "HOME INSPECTOR            46.0  2013.086957   6.456095  2003.0  2007.25   \n",
       "IDPR                       9.0  2018.777778   3.767552  2012.0  2016.00   \n",
       "INTERIOR DESIGN           22.0  2005.272727  12.325667  1992.0  1992.00   \n",
       "LAND SURVEYOR BOARD       16.0  1998.937500  20.827766  1951.0  1988.75   \n",
       "LANDSCAPE ARCHITECT        7.0  2008.142857  12.088956  1992.0  1999.50   \n",
       "LIMITED LIABILITY CO      21.0  2018.904762   2.547641  2013.0  2017.00   \n",
       "MAR AND FAM THERAPIST     14.0  2017.000000   4.574175  2005.0  2015.00   \n",
       "MASSAGE LICENSING BD      52.0  2014.673077   5.617623  2004.0  2010.00   \n",
       "MEDICAL BOARD              6.0  1984.000000  22.829805  1949.0  1978.25   \n",
       "\n",
       "                           50%      75%     max  \n",
       "License Type                                     \n",
       "APPRAISAL               2011.0  2013.00  2013.0  \n",
       "ARCHITECT               2017.0  2020.00  2021.0  \n",
       "ATHLETIC TRAINER        2017.5  2021.50  2022.0  \n",
       "ATHLETICS               2007.0  2016.00  2019.0  \n",
       "AUCTIONEER              2015.0  2017.50  2020.0  \n",
       "CEMETERY OVERSIGHT      2016.0  2016.00  2016.0  \n",
       "CLIN PSYCHOLOGIST       2020.0  2020.00  2022.0  \n",
       "COLLECTION AGENCY       2012.0  2021.00  2022.0  \n",
       "COMM ASSOC MGR          2021.0  2021.00  2022.0  \n",
       "COSMO                   2012.0  2020.00  2022.0  \n",
       "DENTAL                  2018.0  2021.00  2022.0  \n",
       "DESIGN FIRM             2015.0  2021.00  2022.0  \n",
       "DETECT. DECEPTION       1980.5  1983.75  1987.0  \n",
       "DETECTIVE BOARD         2009.0  2017.00  2022.0  \n",
       "DIETETIC AND NUTRITION  2020.0  2021.00  2022.0  \n",
       "ENVIRON. HLTH PRACT     2008.0  2018.00  2022.0  \n",
       "FUNERAL AND EMBALMER    1995.0  2020.00  2021.0  \n",
       "GEOLOGY                 2021.0  2021.00  2021.0  \n",
       "HME AND SERVICES PROV   2013.5  2021.00  2021.0  \n",
       "HOME INSPECTOR          2013.0  2020.00  2022.0  \n",
       "IDPR                    2021.0  2021.00  2022.0  \n",
       "INTERIOR DESIGN         2008.0  2018.50  2022.0  \n",
       "LAND SURVEYOR BOARD     2002.0  2020.00  2020.0  \n",
       "LANDSCAPE ARCHITECT     2009.0  2019.00  2019.0  \n",
       "LIMITED LIABILITY CO    2019.0  2021.00  2021.0  \n",
       "MAR AND FAM THERAPIST   2019.0  2020.00  2021.0  \n",
       "MASSAGE LICENSING BD    2016.0  2020.00  2021.0  \n",
       "MEDICAL BOARD           1985.0  1988.00  2020.0  "
      ]
     },
     "execution_count": 10,
     "metadata": {},
     "output_type": "execute_result"
    }
   ],
   "source": [
    "licenses_group = licenses.groupby('License Type')['Effective Year'].describe()\n",
    "licenses_group"
   ]
  },
  {
   "cell_type": "markdown",
   "id": "fc72a29b",
   "metadata": {},
   "source": [
    "Lastly, using plot graph to plot out the average effective year of each licenses type. "
   ]
  },
  {
   "cell_type": "code",
   "execution_count": 11,
   "id": "de064206",
   "metadata": {
    "scrolled": true
   },
   "outputs": [
    {
     "data": {
      "image/png": "[encoded data removed]",
      "text/plain": [
       "<Figure size 1000x300 with 1 Axes>"
      ]
     },
     "metadata": {},
     "output_type": "display_data"
    }
   ],
   "source": [
    "fig, ax = plt.subplots(figsize=(10,3))\n",
    "ax.plot(licenses_group['mean'],marker='.')\n",
    "ax.set_xlabel('License Type')\n",
    "ax.set_ylabel('Average Effective Year')\n",
    "ax.set_title('Average Effective Year as a function of License Type')\n",
    "plt.show()"
   ]
  },
  {
   "cell_type": "markdown",
   "id": "1e23ea15",
   "metadata": {},
   "source": [
    "As we can see in the picutre, since the x axis of this graph is license type and each type has its unique long name, the name overlap together. I tried to make ratio into 50 by 3, but it is too samll to read and hardly see the plot graph. So I just set into 10 by 3 to get a better idea of the graph but with the trade off of not being able seeing all the license type name. "
   ]
  },
  {
   "cell_type": "markdown",
   "id": "de4bb8a6",
   "metadata": {},
   "source": [
    "## 3. Median Effective Month in each Effective Issue Year as a function of median Original Issue Year\n"
   ]
  },
  {
   "cell_type": "markdown",
   "id": "927384a3",
   "metadata": {},
   "source": [
    "Firstly, use the effective date data I used above and read the effective month data. "
   ]
  },
  {
   "cell_type": "code",
   "execution_count": 12,
   "id": "028ca206",
   "metadata": {},
   "outputs": [
    {
     "data": {
      "text/plain": [
       "0        2.0\n",
       "1        2.0\n",
       "2        2.0\n",
       "3       11.0\n",
       "4        7.0\n",
       "        ... \n",
       "9995     8.0\n",
       "9996     5.0\n",
       "9997     5.0\n",
       "9998    12.0\n",
       "9999    10.0\n",
       "Name: Effective Month, Length: 10000, dtype: float64"
      ]
     },
     "execution_count": 12,
     "metadata": {},
     "output_type": "execute_result"
    }
   ],
   "source": [
    "licenses['Effective Month'] = licenses['Effective Date'].dt.month\n",
    "licenses['Effective Month']"
   ]
  },
  {
   "cell_type": "markdown",
   "id": "282d7994",
   "metadata": {},
   "source": [
    "Then, groupby the effective year and effective month with its median number"
   ]
  },
  {
   "cell_type": "code",
   "execution_count": 13,
   "id": "348b21f9",
   "metadata": {},
   "outputs": [
    {
     "data": {
      "text/plain": [
       "Effective Year\n",
       "1912.0    7.0\n",
       "1918.0    9.0\n",
       "1919.0    8.5\n",
       "1923.0    8.0\n",
       "1926.0    1.0\n",
       "         ... \n",
       "2018.0    6.0\n",
       "2019.0    8.0\n",
       "2020.0    9.0\n",
       "2021.0    9.0\n",
       "2022.0    2.0\n",
       "Name: Effective Month, Length: 100, dtype: float64"
      ]
     },
     "execution_count": 13,
     "metadata": {},
     "output_type": "execute_result"
    }
   ],
   "source": [
    "effective_month = licenses.groupby('Effective Year')['Effective Month'].median()\n",
    "effective_month"
   ]
  },
  {
   "cell_type": "markdown",
   "id": "8789df85",
   "metadata": {},
   "source": [
    "After that, groupby the data of effective year and origianl issue year with its median number"
   ]
  },
  {
   "cell_type": "code",
   "execution_count": 14,
   "id": "4ac04af0",
   "metadata": {
    "scrolled": false
   },
   "outputs": [
    {
     "data": {
      "text/plain": [
       "Effective Year\n",
       "1912.0    1912.0\n",
       "1918.0    1918.0\n",
       "1919.0    1919.0\n",
       "1923.0    1923.0\n",
       "1926.0    1926.0\n",
       "           ...  \n",
       "2018.0    2015.0\n",
       "2019.0    2017.0\n",
       "2020.0    2013.0\n",
       "2021.0    2011.0\n",
       "2022.0    2015.0\n",
       "Name: Original Issue Year, Length: 100, dtype: float64"
      ]
     },
     "execution_count": 14,
     "metadata": {},
     "output_type": "execute_result"
    }
   ],
   "source": [
    "original_issue_year = licenses.groupby('Effective Year')['Original Issue Year'].median()\n",
    "original_issue_year"
   ]
  },
  {
   "cell_type": "markdown",
   "id": "dfcc7f95",
   "metadata": {},
   "source": [
    "Set effective_month as df1 and original_issue_year as df2 and combine those two tables into df3"
   ]
  },
  {
   "cell_type": "code",
   "execution_count": null,
   "id": "99676bf9",
   "metadata": {},
   "outputs": [],
   "source": [
    "df1 = effective_month\n",
    "df2 = original_issue_year"
   ]
  },
  {
   "cell_type": "code",
   "execution_count": null,
   "id": "fc6b7ac6",
   "metadata": {},
   "outputs": [],
   "source": [
    "#df1"
   ]
  },
  {
   "cell_type": "code",
   "execution_count": null,
   "id": "1a4c4de1",
   "metadata": {},
   "outputs": [],
   "source": [
    "#df2"
   ]
  },
  {
   "cell_type": "code",
   "execution_count": null,
   "id": "5eb3d0f4",
   "metadata": {
    "scrolled": true
   },
   "outputs": [],
   "source": [
    "df3 = pd.concat([df1, df2], axis=1)\n",
    "df3"
   ]
  },
  {
   "cell_type": "markdown",
   "id": "a18fb2b9",
   "metadata": {},
   "source": [
    "Plot out the df3 with x axis of median original issue year and y axis of median effective month "
   ]
  },
  {
   "cell_type": "code",
   "execution_count": null,
   "id": "89233357",
   "metadata": {
    "scrolled": false
   },
   "outputs": [],
   "source": [
    "plt.plot(df3['Original Issue Year'], df3['Effective Month'])\n",
    "plt.xlabel('Median Original Issue Year')\n",
    "plt.ylabel('Median Effective Month')\n",
    "plt.title('Median Effective Month in each Effective Issue Year as a function of median Original Issue Year')"
   ]
  },
  {
   "cell_type": "markdown",
   "id": "8315f306",
   "metadata": {},
   "source": [
    "Finally, got the plot graph of the relationship of median effective month in each effective issue years as a function of median original issue year. As we can see in the graph, hte median effective months in each original issue year is quite different and I can barely see any relationship between those. "
   ]
  }
 ],
 "metadata": {
  "kernelspec": {
   "display_name": "Python 3 (ipykernel)",
   "language": "python",
   "name": "python3"
  },
  "language_info": {
   "codemirror_mode": {
    "name": "ipython",
    "version": 3
   },
   "file_extension": ".py",
   "mimetype": "text/x-python",
   "name": "python",
   "nbconvert_exporter": "python",
   "pygments_lexer": "ipython3",
   "version": "3.7.12"
  }
 },
 "nbformat": 4,
 "nbformat_minor": 5
}
