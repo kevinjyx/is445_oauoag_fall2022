{
 "cells": [
  {
   "cell_type": "markdown",
   "id": "09654ac6",
   "metadata": {},
   "source": [
    "# In Class Notebook, Week 06\n",
    "### You can always access the URL of this notebook: https://github.com/UIUC-iSchool-DataViz/is445_bcubcg_fall2022/blob/master/week06/inClass_week06.ipynb\n",
    "\n",
    "### Or post the URL into the nbviewer interface for a plain-text rendering:\n",
    "\n",
    "### https://kokes.github.io/nbviewer.js/viewer.html"
   ]
  },
  {
   "cell_type": "code",
   "execution_count": 1,
   "id": "e40b659c",
   "metadata": {},
   "outputs": [],
   "source": [
    "import pandas as pd\n",
    "import numpy as np\n",
    "import ipywidgets\n",
    "import matplotlib.pyplot as plt\n",
    "import bqplot"
   ]
  },
  {
   "cell_type": "markdown",
   "id": "83081e7d",
   "metadata": {},
   "source": [
    "## Quick review from recording last week\n"
   ]
  },
  {
   "cell_type": "code",
   "execution_count": 2,
   "id": "61fe1239",
   "metadata": {},
   "outputs": [],
   "source": [
    "# Step 1: data\n",
    "data = np.random.random((10,10))"
   ]
  },
  {
   "cell_type": "code",
   "execution_count": 3,
   "id": "36298f9a",
   "metadata": {},
   "outputs": [
    {
     "data": {
      "text/plain": [
       "(10, 10)"
      ]
     },
     "execution_count": 3,
     "metadata": {},
     "output_type": "execute_result"
    }
   ],
   "source": [
    "data.shape"
   ]
  },
  {
   "cell_type": "code",
   "execution_count": 4,
   "id": "00abbfc6",
   "metadata": {},
   "outputs": [],
   "source": [
    "bqplot.GridHeatMap?"
   ]
  },
  {
   "cell_type": "code",
   "execution_count": 5,
   "id": "761770de",
   "metadata": {},
   "outputs": [],
   "source": [
    "bqplot.ColorScale?"
   ]
  },
  {
   "cell_type": "code",
   "execution_count": 7,
   "id": "735e9385",
   "metadata": {},
   "outputs": [
    {
     "data": {
      "application/vnd.jupyter.widget-view+json": {
       "model_id": "55ea33acca394e4f8ae8c6637cd5741c",
       "version_major": 2,
       "version_minor": 0
      },
      "text/plain": [
       "Figure(fig_margin={'top': 60, 'bottom': 60, 'left': 60, 'right': 60}, marks=[GridHeatMap(color=array([[0.74936…"
      ]
     },
     "metadata": {},
     "output_type": "display_data"
    }
   ],
   "source": [
    "# Step 2: define scales\n",
    "col_sc = bqplot.ColorScale()\n",
    "\n",
    "# Step 3: define our axis -- ignore right now\n",
    "\n",
    "# Step 4: defien marks\n",
    "heat_map = bqplot.GridHeatMap(color=data, scales={'color':col_sc})\n",
    "\n",
    "# Step 5: interactions -- also ignore for now\n",
    "\n",
    "# finally, a figure\n",
    "fig = bqplot.Figure(marks=[heat_map])\n",
    "fig"
   ]
  },
  {
   "cell_type": "code",
   "execution_count": 8,
   "id": "4cbc6a5f",
   "metadata": {},
   "outputs": [
    {
     "data": {
      "application/vnd.jupyter.widget-view+json": {
       "model_id": "628248d3df54441984aa46c3c68446db",
       "version_major": 2,
       "version_minor": 0
      },
      "text/plain": [
       "Figure(fig_margin={'top': 60, 'bottom': 60, 'left': 60, 'right': 60}, marks=[GridHeatMap(color=array([[0.74936…"
      ]
     },
     "metadata": {},
     "output_type": "display_data"
    }
   ],
   "source": [
    "# Step 2: define scales\n",
    "col_sc = bqplot.ColorScale(scheme='Greens')\n",
    "\n",
    "# Step 3: define our axis -- ignore right now\n",
    "\n",
    "# Step 4: define marks\n",
    "heat_map = bqplot.GridHeatMap(color=data, scales={'color':col_sc})\n",
    "\n",
    "# Step 5: interactions -- also ignore for now\n",
    "\n",
    "# finally, a figure\n",
    "fig = bqplot.Figure(marks=[heat_map])\n",
    "fig"
   ]
  },
  {
   "cell_type": "code",
   "execution_count": 9,
   "id": "1987406e",
   "metadata": {},
   "outputs": [],
   "source": [
    "bqplot.ColorAxis?"
   ]
  },
  {
   "cell_type": "code",
   "execution_count": 11,
   "id": "9086675a",
   "metadata": {},
   "outputs": [
    {
     "data": {
      "application/vnd.jupyter.widget-view+json": {
       "model_id": "01ea38b8702846838940d9cceeb3c806",
       "version_major": 2,
       "version_minor": 0
      },
      "text/plain": [
       "Figure(axes=[ColorAxis(orientation='vertical', scale=ColorScale(scheme='Greens'), side='right')], fig_margin={…"
      ]
     },
     "metadata": {},
     "output_type": "display_data"
    }
   ],
   "source": [
    "# Step 2: define scales\n",
    "col_sc = bqplot.ColorScale(scheme='Greens')\n",
    "\n",
    "# Step 3: define our axis\n",
    "col_ax = bqplot.ColorAxis(scale=col_sc, orientation='vertical', side='right')\n",
    "\n",
    "# Step 4: define marks\n",
    "heat_map = bqplot.GridHeatMap(color=data, scales={'color':col_sc})\n",
    "\n",
    "# Step 5: interactions -- also ignore for now\n",
    "\n",
    "# finally, a figure\n",
    "fig = bqplot.Figure(marks=[heat_map], axes=[col_ax])\n",
    "fig"
   ]
  },
  {
   "cell_type": "code",
   "execution_count": 12,
   "id": "c8dc6a06",
   "metadata": {},
   "outputs": [],
   "source": [
    "bqplot.OrdinalScale?"
   ]
  },
  {
   "cell_type": "code",
   "execution_count": 15,
   "id": "146ebbdf",
   "metadata": {},
   "outputs": [
    {
     "data": {
      "application/vnd.jupyter.widget-view+json": {
       "model_id": "1347f27bedcb40c7ba2bd09eaf75c9a3",
       "version_major": 2,
       "version_minor": 0
      },
      "text/plain": [
       "Figure(axes=[ColorAxis(orientation='vertical', scale=ColorScale(scheme='Greens'), side='right'), Axis(scale=Or…"
      ]
     },
     "metadata": {},
     "output_type": "display_data"
    }
   ],
   "source": [
    "# Step 2: define scales\n",
    "col_sc = bqplot.ColorScale(scheme='Greens')\n",
    "x_sc = bqplot.OrdinalScale()\n",
    "y_sc = bqplot.OrdinalScale()\n",
    "\n",
    "# Step 3: define our axis\n",
    "col_ax = bqplot.ColorAxis(scale=col_sc, orientation='vertical', side='right')\n",
    "x_ax = bqplot.Axis(scale=x_sc)\n",
    "y_ax = bqplot.Axis(scale=y_sc, orientation='vertical')\n",
    "\n",
    "# Step 4: define marks\n",
    "heat_map = bqplot.GridHeatMap(color=data, scales={'color':col_sc, 'row':y_sc, 'column':x_sc})\n",
    "\n",
    "# Step 5: interactions -- also ignore for now\n",
    "\n",
    "# finally, a figure\n",
    "fig = bqplot.Figure(marks=[heat_map], axes=[col_ax,x_ax,y_ax])\n",
    "fig"
   ]
  },
  {
   "cell_type": "code",
   "execution_count": 16,
   "id": "4b0ed1fd",
   "metadata": {},
   "outputs": [
    {
     "data": {
      "application/vnd.jupyter.widget-view+json": {
       "model_id": "72c2b03218004015b53402993bf7e2d6",
       "version_major": 2,
       "version_minor": 0
      },
      "text/plain": [
       "Figure(axes=[ColorAxis(orientation='vertical', scale=ColorScale(scheme='Greens'), side='right'), Axis(scale=Or…"
      ]
     },
     "metadata": {},
     "output_type": "display_data"
    }
   ],
   "source": [
    "# Step 2: define scales\n",
    "col_sc = bqplot.ColorScale(scheme='Greens')\n",
    "x_sc = bqplot.OrdinalScale()\n",
    "y_sc = bqplot.OrdinalScale()\n",
    "\n",
    "# Step 3: define our axis\n",
    "col_ax = bqplot.ColorAxis(scale=col_sc, orientation='vertical', side='right')\n",
    "x_ax = bqplot.Axis(scale=x_sc)\n",
    "y_ax = bqplot.Axis(scale=y_sc, orientation='vertical')\n",
    "\n",
    "# Step 4: define marks\n",
    "heat_map = bqplot.GridHeatMap(color=data, scales={'color':col_sc, 'row':y_sc, 'column':x_sc},\n",
    "                             interactions={'click':'select'},\n",
    "                             selected_style={'fill':'magenta'})\n",
    "\n",
    "# Step 5: interactions\n",
    "\n",
    "# finally, a figure\n",
    "fig = bqplot.Figure(marks=[heat_map], axes=[col_ax,x_ax,y_ax])\n",
    "fig"
   ]
  },
  {
   "cell_type": "code",
   "execution_count": 17,
   "id": "757ecb3b",
   "metadata": {},
   "outputs": [
    {
     "data": {
      "text/plain": [
       "['_model_module',\n",
       " '_model_module_version',\n",
       " '_model_name',\n",
       " '_view_count',\n",
       " '_view_module',\n",
       " '_view_module_version',\n",
       " '_view_name',\n",
       " 'anchor_style',\n",
       " 'apply_clip',\n",
       " 'color',\n",
       " 'column',\n",
       " 'column_align',\n",
       " 'display_format',\n",
       " 'display_legend',\n",
       " 'enable_hover',\n",
       " 'font_style',\n",
       " 'interactions',\n",
       " 'labels',\n",
       " 'null_color',\n",
       " 'opacity',\n",
       " 'preserve_domain',\n",
       " 'row',\n",
       " 'row_align',\n",
       " 'scales',\n",
       " 'scales_metadata',\n",
       " 'selected',\n",
       " 'selected_style',\n",
       " 'stroke',\n",
       " 'tooltip',\n",
       " 'tooltip_location',\n",
       " 'tooltip_style',\n",
       " 'unselected_style',\n",
       " 'visible']"
      ]
     },
     "execution_count": 17,
     "metadata": {},
     "output_type": "execute_result"
    }
   ],
   "source": [
    "heat_map.keys"
   ]
  },
  {
   "cell_type": "code",
   "execution_count": 19,
   "id": "252202b3",
   "metadata": {},
   "outputs": [
    {
     "data": {
      "text/plain": [
       "array([[1, 1]])"
      ]
     },
     "execution_count": 19,
     "metadata": {},
     "output_type": "execute_result"
    }
   ],
   "source": [
    "heat_map.selected"
   ]
  },
  {
   "cell_type": "code",
   "execution_count": 20,
   "id": "d0edca23",
   "metadata": {},
   "outputs": [],
   "source": [
    "def on_selected(change):\n",
    "    print(change)"
   ]
  },
  {
   "cell_type": "code",
   "execution_count": 22,
   "id": "6bc5d1e8",
   "metadata": {},
   "outputs": [
    {
     "data": {
      "application/vnd.jupyter.widget-view+json": {
       "model_id": "30393daa01e64250911e79b417768ef3",
       "version_major": 2,
       "version_minor": 0
      },
      "text/plain": [
       "Figure(axes=[ColorAxis(orientation='vertical', scale=ColorScale(scheme='Greens'), side='right'), Axis(scale=Or…"
      ]
     },
     "metadata": {},
     "output_type": "display_data"
    },
    {
     "name": "stdout",
     "output_type": "stream",
     "text": [
      "[8 2]\n",
      "[6 4]\n",
      "[3 2]\n",
      "[5 5]\n",
      "[7 5]\n"
     ]
    }
   ],
   "source": [
    "def on_selected(change):\n",
    "    if len(change['owner'].selected) == 1: # no regions, only single bins selected\n",
    "        print(change['owner'].selected[0])\n",
    "    \n",
    "# Step 2: define scales\n",
    "col_sc = bqplot.ColorScale(scheme='Greens')\n",
    "x_sc = bqplot.OrdinalScale()\n",
    "y_sc = bqplot.OrdinalScale()\n",
    "\n",
    "# Step 3: define our axis\n",
    "col_ax = bqplot.ColorAxis(scale=col_sc, orientation='vertical', side='right')\n",
    "x_ax = bqplot.Axis(scale=x_sc)\n",
    "y_ax = bqplot.Axis(scale=y_sc, orientation='vertical')\n",
    "\n",
    "# Step 4: define marks\n",
    "heat_map = bqplot.GridHeatMap(color=data, scales={'color':col_sc, 'row':y_sc, 'column':x_sc},\n",
    "                             interactions={'click':'select'},\n",
    "                             selected_style={'fill':'magenta'})\n",
    "\n",
    "# Step 5: interactions\n",
    "heat_map.observe(on_selected, 'selected')\n",
    "\n",
    "# finally, a figure\n",
    "fig = bqplot.Figure(marks=[heat_map], axes=[col_ax,x_ax,y_ax])\n",
    "fig"
   ]
  },
  {
   "cell_type": "code",
   "execution_count": 23,
   "id": "a7305dda",
   "metadata": {},
   "outputs": [],
   "source": [
    "selectedLabel = ipywidgets.Label()"
   ]
  },
  {
   "cell_type": "code",
   "execution_count": 24,
   "id": "e86989cc",
   "metadata": {},
   "outputs": [
    {
     "data": {
      "application/vnd.jupyter.widget-view+json": {
       "model_id": "f57f36559d2c454d9661c22eb12b947a",
       "version_major": 2,
       "version_minor": 0
      },
      "text/plain": [
       "Label(value='')"
      ]
     },
     "metadata": {},
     "output_type": "display_data"
    }
   ],
   "source": [
    "selectedLabel"
   ]
  },
  {
   "cell_type": "code",
   "execution_count": 25,
   "id": "89ff34d1",
   "metadata": {},
   "outputs": [
    {
     "data": {
      "text/plain": [
       "array([7, 5])"
      ]
     },
     "execution_count": 25,
     "metadata": {},
     "output_type": "execute_result"
    }
   ],
   "source": [
    "heat_map.selected[0]"
   ]
  },
  {
   "cell_type": "code",
   "execution_count": 26,
   "id": "db092af1",
   "metadata": {},
   "outputs": [
    {
     "data": {
      "text/plain": [
       "0.9679796250708242"
      ]
     },
     "execution_count": 26,
     "metadata": {},
     "output_type": "execute_result"
    }
   ],
   "source": [
    "i,j = heat_map.selected[0]\n",
    "data[i,j]"
   ]
  },
  {
   "cell_type": "code",
   "execution_count": 27,
   "id": "32855c59",
   "metadata": {},
   "outputs": [
    {
     "data": {
      "application/vnd.jupyter.widget-view+json": {
       "model_id": "f57f36559d2c454d9661c22eb12b947a",
       "version_major": 2,
       "version_minor": 0
      },
      "text/plain": [
       "Label(value='Data value=0.9679796250708242')"
      ]
     },
     "metadata": {},
     "output_type": "display_data"
    }
   ],
   "source": [
    "selectedLabel.value = 'Data value=' + str(data[i,j])\n",
    "selectedLabel"
   ]
  },
  {
   "cell_type": "code",
   "execution_count": 28,
   "id": "2e95c442",
   "metadata": {},
   "outputs": [
    {
     "data": {
      "application/vnd.jupyter.widget-view+json": {
       "model_id": "b2c472022e54442d949dd784dff1ab17",
       "version_major": 2,
       "version_minor": 0
      },
      "text/plain": [
       "VBox(children=(Label(value='Data value=0.9679796250708242'), Figure(axes=[ColorAxis(orientation='vertical', sc…"
      ]
     },
     "metadata": {},
     "output_type": "display_data"
    }
   ],
   "source": [
    "def on_selected(change):\n",
    "    if len(change['owner'].selected) == 1: # no regions, only single bins selected\n",
    "        #print(change['owner'].selected[0])\n",
    "        i,j = change['owner'].selected[0]\n",
    "        v = data[i,j]\n",
    "        selectedLabel.value = 'Data Value = ' + str(v)\n",
    "    \n",
    "# Step 2: define scales\n",
    "col_sc = bqplot.ColorScale(scheme='Greens')\n",
    "x_sc = bqplot.OrdinalScale()\n",
    "y_sc = bqplot.OrdinalScale()\n",
    "\n",
    "# Step 3: define our axis\n",
    "col_ax = bqplot.ColorAxis(scale=col_sc, orientation='vertical', side='right')\n",
    "x_ax = bqplot.Axis(scale=x_sc)\n",
    "y_ax = bqplot.Axis(scale=y_sc, orientation='vertical')\n",
    "\n",
    "# Step 4: define marks\n",
    "heat_map = bqplot.GridHeatMap(color=data, scales={'color':col_sc, 'row':y_sc, 'column':x_sc},\n",
    "                             interactions={'click':'select'},\n",
    "                             selected_style={'fill':'magenta'})\n",
    "\n",
    "# Step 5: interactions\n",
    "heat_map.observe(on_selected, 'selected')\n",
    "\n",
    "# finally, a figure\n",
    "fig = bqplot.Figure(marks=[heat_map], axes=[col_ax,x_ax,y_ax])\n",
    "#fig\n",
    "myDashboard = ipywidgets.VBox([selectedLabel,fig])\n",
    "myDashboard"
   ]
  },
  {
   "cell_type": "markdown",
   "id": "1f5ea81d",
   "metadata": {},
   "source": [
    "## 3D Data (random)"
   ]
  },
  {
   "cell_type": "code",
   "execution_count": 29,
   "id": "9664fa48",
   "metadata": {},
   "outputs": [],
   "source": [
    "data3d = np.random.random((10,10,20))"
   ]
  },
  {
   "cell_type": "code",
   "execution_count": 30,
   "id": "86eb7fcf",
   "metadata": {},
   "outputs": [
    {
     "data": {
      "text/plain": [
       "(10, 10, 20)"
      ]
     },
     "execution_count": 30,
     "metadata": {},
     "output_type": "execute_result"
    }
   ],
   "source": [
    "data3d.shape"
   ]
  },
  {
   "cell_type": "code",
   "execution_count": 31,
   "id": "1406e604",
   "metadata": {},
   "outputs": [
    {
     "data": {
      "text/plain": [
       "array([0.06320254, 0.53840387, 0.65091711, 0.45143388, 0.13159485,\n",
       "       0.66990101, 0.98669966, 0.18189058, 0.28863028, 0.93462758,\n",
       "       0.4806956 , 0.9606661 , 0.73664334, 0.10069664, 0.07792011,\n",
       "       0.08417781, 0.2691836 , 0.34383247, 0.12985172, 0.50317966])"
      ]
     },
     "execution_count": 31,
     "metadata": {},
     "output_type": "execute_result"
    }
   ],
   "source": [
    "data3d[0,0,:]"
   ]
  },
  {
   "cell_type": "code",
   "execution_count": 32,
   "id": "6043cd37",
   "metadata": {},
   "outputs": [
    {
     "data": {
      "text/plain": [
       "0.4292074198004682"
      ]
     },
     "execution_count": 32,
     "metadata": {},
     "output_type": "execute_result"
    }
   ],
   "source": [
    "data3d[0,0,:].mean()"
   ]
  },
  {
   "cell_type": "code",
   "execution_count": 33,
   "id": "441efe08",
   "metadata": {},
   "outputs": [
    {
     "data": {
      "text/plain": [
       "(10, 10)"
      ]
     },
     "execution_count": 33,
     "metadata": {},
     "output_type": "execute_result"
    }
   ],
   "source": [
    "data3d.mean(axis=2).shape\n"
   ]
  },
  {
   "cell_type": "code",
   "execution_count": 34,
   "id": "694099aa",
   "metadata": {},
   "outputs": [],
   "source": [
    "selectedLabel3d = ipywidgets.Label()"
   ]
  },
  {
   "cell_type": "code",
   "execution_count": 35,
   "id": "b9a90574",
   "metadata": {},
   "outputs": [
    {
     "data": {
      "application/vnd.jupyter.widget-view+json": {
       "model_id": "49dcf59acf5f4a8bb9ff8340a7058c96",
       "version_major": 2,
       "version_minor": 0
      },
      "text/plain": [
       "VBox(children=(Label(value=''), Figure(axes=[ColorAxis(orientation='vertical', scale=ColorScale(scheme='Greens…"
      ]
     },
     "metadata": {},
     "output_type": "display_data"
    }
   ],
   "source": [
    "def on_selected(change):\n",
    "    if len(change['owner'].selected) == 1: # no regions, only single bins selected\n",
    "        i,j = change['owner'].selected[0]\n",
    "        v = data3d[i,j,:].mean()\n",
    "        selectedLabel3d.value = 'Data Mean = ' + str(v)\n",
    "    \n",
    "# Step 2: define scales\n",
    "col_sc = bqplot.ColorScale(scheme='Greens')\n",
    "x_sc = bqplot.OrdinalScale()\n",
    "y_sc = bqplot.OrdinalScale()\n",
    "\n",
    "# Step 3: define our axis\n",
    "col_ax = bqplot.ColorAxis(scale=col_sc, orientation='vertical', side='right')\n",
    "x_ax = bqplot.Axis(scale=x_sc)\n",
    "y_ax = bqplot.Axis(scale=y_sc, orientation='vertical')\n",
    "\n",
    "# Step 4: define marks\n",
    "heat_map = bqplot.GridHeatMap(color=data3d.mean(axis=2), scales={'color':col_sc, 'row':y_sc, 'column':x_sc},\n",
    "                             interactions={'click':'select'},\n",
    "                             selected_style={'fill':'magenta'})\n",
    "\n",
    "# Step 5: interactions\n",
    "heat_map.observe(on_selected, 'selected')\n",
    "\n",
    "# finally, a figure\n",
    "fig = bqplot.Figure(marks=[heat_map], axes=[col_ax,x_ax,y_ax])\n",
    "#fig\n",
    "myDashboard = ipywidgets.VBox([selectedLabel3d,fig])\n",
    "myDashboard"
   ]
  },
  {
   "cell_type": "code",
   "execution_count": 36,
   "id": "ed70e4ef",
   "metadata": {},
   "outputs": [
    {
     "data": {
      "text/plain": [
       "array([0.06320254, 0.53840387, 0.65091711, 0.45143388, 0.13159485,\n",
       "       0.66990101, 0.98669966, 0.18189058, 0.28863028, 0.93462758,\n",
       "       0.4806956 , 0.9606661 , 0.73664334, 0.10069664, 0.07792011,\n",
       "       0.08417781, 0.2691836 , 0.34383247, 0.12985172, 0.50317966])"
      ]
     },
     "execution_count": 36,
     "metadata": {},
     "output_type": "execute_result"
    }
   ],
   "source": [
    "#1. Data for histogram (starting with a hard-coded value)\n",
    "i,j = 0,0\n",
    "data3d[i,j]"
   ]
  },
  {
   "cell_type": "code",
   "execution_count": 37,
   "id": "838fcb43",
   "metadata": {},
   "outputs": [],
   "source": [
    "# 2. Scales for histogram\n",
    "x_sch = bqplot.LinearScale() # numerical data\n",
    "y_sch = bqplot.LinearScale() # numerical data for the distribution"
   ]
  },
  {
   "cell_type": "code",
   "execution_count": 38,
   "id": "89f832db",
   "metadata": {},
   "outputs": [],
   "source": [
    "# 3. Axis for histogram\n",
    "x_axh = bqplot.Axis(scale=x_sch, label='Value of 3rd Axis')\n",
    "y_axh = bqplot.Axis(scale=y_sch, orientation='vertical', label='Frequency')"
   ]
  },
  {
   "cell_type": "code",
   "execution_count": 39,
   "id": "5bfc9bd3",
   "metadata": {},
   "outputs": [],
   "source": [
    "bqplot.Hist?"
   ]
  },
  {
   "cell_type": "code",
   "execution_count": 40,
   "id": "cdf8eac3",
   "metadata": {},
   "outputs": [],
   "source": [
    "# 4. Marks for histogram\n",
    "hist = bqplot.Hist(sample=data3d[i,j,:], # hard-coded for now\n",
    "                  normalized=False, # to get counts instead of density\n",
    "                  scales={'sample':x_sch, 'count':y_sch}, \n",
    "                  bins=5)"
   ]
  },
  {
   "cell_type": "code",
   "execution_count": 41,
   "id": "f69cc5e3",
   "metadata": {},
   "outputs": [],
   "source": [
    "# 5. interactions -- none right now for the histogram plot"
   ]
  },
  {
   "cell_type": "code",
   "execution_count": 42,
   "id": "453fcc62",
   "metadata": {},
   "outputs": [
    {
     "data": {
      "application/vnd.jupyter.widget-view+json": {
       "model_id": "133d0833212f4570a48156bde7ca2b9c",
       "version_major": 2,
       "version_minor": 0
      },
      "text/plain": [
       "Figure(axes=[Axis(label='Value of 3rd Axis', scale=LinearScale(), side='bottom'), Axis(label='Frequency', orie…"
      ]
     },
     "metadata": {},
     "output_type": "display_data"
    }
   ],
   "source": [
    "# finally, a figure\n",
    "figh = bqplot.Figure(marks=[hist],axes=[x_axh, y_axh])\n",
    "figh"
   ]
  },
  {
   "cell_type": "code",
   "execution_count": 43,
   "id": "1a12c3c7",
   "metadata": {},
   "outputs": [
    {
     "data": {
      "text/plain": [
       "['_model_module',\n",
       " '_model_module_version',\n",
       " '_model_name',\n",
       " '_view_count',\n",
       " '_view_module',\n",
       " '_view_module_version',\n",
       " '_view_name',\n",
       " 'apply_clip',\n",
       " 'bins',\n",
       " 'colors',\n",
       " 'count',\n",
       " 'display_legend',\n",
       " 'enable_hover',\n",
       " 'interactions',\n",
       " 'labels',\n",
       " 'midpoints',\n",
       " 'normalized',\n",
       " 'opacities',\n",
       " 'preserve_domain',\n",
       " 'sample',\n",
       " 'scales',\n",
       " 'scales_metadata',\n",
       " 'selected',\n",
       " 'selected_style',\n",
       " 'stroke',\n",
       " 'tooltip',\n",
       " 'tooltip_location',\n",
       " 'tooltip_style',\n",
       " 'unselected_style',\n",
       " 'visible']"
      ]
     },
     "execution_count": 43,
     "metadata": {},
     "output_type": "execute_result"
    }
   ],
   "source": [
    "hist.keys"
   ]
  },
  {
   "cell_type": "code",
   "execution_count": 44,
   "id": "5e1d8569",
   "metadata": {},
   "outputs": [
    {
     "data": {
      "text/plain": [
       "array([0.06320254, 0.53840387, 0.65091711, 0.45143388, 0.13159485,\n",
       "       0.66990101, 0.98669966, 0.18189058, 0.28863028, 0.93462758,\n",
       "       0.4806956 , 0.9606661 , 0.73664334, 0.10069664, 0.07792011,\n",
       "       0.08417781, 0.2691836 , 0.34383247, 0.12985172, 0.50317966])"
      ]
     },
     "execution_count": 44,
     "metadata": {},
     "output_type": "execute_result"
    }
   ],
   "source": [
    "hist.sample"
   ]
  },
  {
   "cell_type": "code",
   "execution_count": 48,
   "id": "b03eac13",
   "metadata": {},
   "outputs": [
    {
     "data": {
      "application/vnd.jupyter.widget-view+json": {
       "model_id": "ca2dad92df6f46e689e095e73bb5d6c4",
       "version_major": 2,
       "version_minor": 0
      },
      "text/plain": [
       "VBox(children=(Label(value='Data Mean = 0.3788480551285355'), HBox(children=(Figure(axes=[ColorAxis(orientatio…"
      ]
     },
     "metadata": {},
     "output_type": "display_data"
    }
   ],
   "source": [
    "def on_selected(change):\n",
    "    if len(change['owner'].selected) == 1: # no regions, only single bins selected\n",
    "        i,j = change['owner'].selected[0]\n",
    "        v = data3d[i,j,:].mean()\n",
    "        selectedLabel3d.value = 'Data Mean = ' + str(v) # updating the trait of the label\n",
    "        hist.sample = data3d[i,j,:] # updating the trait \"sample\" of histogram\n",
    "    \n",
    "# Step 2: define scales\n",
    "col_sc = bqplot.ColorScale(scheme='Greens')\n",
    "x_sc = bqplot.OrdinalScale()\n",
    "y_sc = bqplot.OrdinalScale()\n",
    "\n",
    "# Step 3: define our axis\n",
    "col_ax = bqplot.ColorAxis(scale=col_sc, orientation='vertical', side='right')\n",
    "x_ax = bqplot.Axis(scale=x_sc)\n",
    "y_ax = bqplot.Axis(scale=y_sc, orientation='vertical')\n",
    "\n",
    "# Step 4: define marks\n",
    "heat_map = bqplot.GridHeatMap(color=data3d.mean(axis=2), scales={'color':col_sc, 'row':y_sc, 'column':x_sc},\n",
    "                             interactions={'click':'select'},\n",
    "                             selected_style={'fill':'magenta'})\n",
    "\n",
    "# Step 5: interactions\n",
    "heat_map.observe(on_selected, 'selected')\n",
    "\n",
    "# finally, a figure\n",
    "fig = bqplot.Figure(marks=[heat_map], axes=[col_ax,x_ax,y_ax])\n",
    "#fig\n",
    "#myDashboard = ipywidgets.VBox([selectedLabel3d,fig])\n",
    "fig.layout.min_width='500px'\n",
    "figh.layout.min_width='500px'\n",
    "figures = ipywidgets.HBox([fig, figh]) # fig=heat map (driver), figh=histgram (updates)\n",
    "myDashboard = ipywidgets.VBox([selectedLabel3d, figures])\n",
    "myDashboard"
   ]
  },
  {
   "cell_type": "code",
   "execution_count": 46,
   "id": "d7ddb0b4",
   "metadata": {},
   "outputs": [],
   "source": [
    "hist.bins = 10"
   ]
  },
  {
   "cell_type": "code",
   "execution_count": 47,
   "id": "31591022",
   "metadata": {},
   "outputs": [
    {
     "data": {
      "application/vnd.jupyter.widget-view+json": {
       "model_id": "1f0026ac91ab41ec9d891ef70b218d4e",
       "version_major": 2,
       "version_minor": 0
      },
      "text/plain": [
       "IntSlider(value=5, max=20, min=1)"
      ]
     },
     "metadata": {},
     "output_type": "display_data"
    }
   ],
   "source": [
    "bins_slider = ipywidgets.IntSlider(value=5,min=1, max=data3d.shape[2])\n",
    "bins_slider"
   ]
  },
  {
   "cell_type": "code",
   "execution_count": 49,
   "id": "a87e8d50",
   "metadata": {},
   "outputs": [
    {
     "data": {
      "text/plain": [
       "Link(source=(IntSlider(value=14, max=20, min=1), 'value'), target=(Hist(colors=['steelblue'], count=array([4.,…"
      ]
     },
     "metadata": {},
     "output_type": "display_data"
    }
   ],
   "source": [
    "ipywidgets.jslink((bins_slider,'value'),(hist,'bins'))"
   ]
  },
  {
   "cell_type": "code",
   "execution_count": 50,
   "id": "71d5c98a",
   "metadata": {},
   "outputs": [
    {
     "data": {
      "application/vnd.jupyter.widget-view+json": {
       "model_id": "5f232cab5f0044dd8a207ff49c7f2c28",
       "version_major": 2,
       "version_minor": 0
      },
      "text/plain": [
       "VBox(children=(HBox(children=(Label(value='Data Mean = 0.6051369490537618'), IntSlider(value=14, max=20, min=1…"
      ]
     },
     "metadata": {},
     "output_type": "display_data"
    }
   ],
   "source": [
    "figures = ipywidgets.HBox([fig,figh])\n",
    "controls = ipywidgets.HBox([selectedLabel3d, bins_slider])\n",
    "myDashboard = ipywidgets.VBox([controls, figures])\n",
    "myDashboard"
   ]
  },
  {
   "cell_type": "markdown",
   "id": "7d05d0a2",
   "metadata": {},
   "source": [
    "## Dashboarding with the UFO dataset"
   ]
  },
  {
   "cell_type": "code",
   "execution_count": 51,
   "id": "1303a558",
   "metadata": {},
   "outputs": [],
   "source": [
    "data_url = 'https://raw.githubusercontent.com/UIUC-iSchool-DataViz/is445_bcubcg_fall2022/main/data/ufo-scrubbed-geocoded-time-standardized-00.csv'\n"
   ]
  },
  {
   "cell_type": "code",
   "execution_count": 52,
   "id": "f635a7cb",
   "metadata": {},
   "outputs": [],
   "source": [
    "ufos = pd.read_csv(data_url, names = [\"date\", \"city\", \"state\", \"country\",\n",
    "                          \"shape\", \"duration_seconds\", \"duration\",\n",
    "                          \"comment\", \"report_date\", \n",
    "                           \"latitude\", \"longitude\"],\n",
    "                  parse_dates = [\"date\", \"report_date\"])"
   ]
  },
  {
   "cell_type": "code",
   "execution_count": 53,
   "id": "8ed819ee",
   "metadata": {},
   "outputs": [
    {
     "data": {
      "text/plain": [
       "80332"
      ]
     },
     "execution_count": 53,
     "metadata": {},
     "output_type": "execute_result"
    }
   ],
   "source": [
    "len(ufos)"
   ]
  },
  {
   "cell_type": "code",
   "execution_count": 54,
   "id": "9c51c014",
   "metadata": {},
   "outputs": [
    {
     "data": {
      "text/plain": [
       "array([ 4991, 60125, 62015, 59680, 10592, 43147, 35364, 27928, 69017,\n",
       "       11727, 42828, 79605, 46469, 74917, 75031, 51782, 52441, 11353,\n",
       "       62284, 73122, 58116, 56890, 75585, 59277, 48554, 45647, 15093,\n",
       "       66535, 14241, 17931, 53658, 63077,  1493, 41100, 69297, 63425,\n",
       "        2075,  1470,  8208, 59638, 37288, 46957, 70062, 78346, 43286,\n",
       "       76593, 67191, 56782,   650, 64288, 29571, 26744, 13298, 56093,\n",
       "       71980, 44132, 25560, 15501, 59858,  5951, 80269, 78964, 55846,\n",
       "       70465,  1978, 35105, 51028, 62554, 36407, 75471, 64237, 33935,\n",
       "       19141, 10802, 53766, 38305, 46942,  3362, 51932, 37547, 57351,\n",
       "       65877, 41988,  2542, 11944, 28334, 66363,  5988, 52589, 24418,\n",
       "       67029, 41613, 32590, 42928, 29047, 39839, 12244, 52920, 45045,\n",
       "       54209, 26793, 43015, 13025, 66162, 61784, 36276, 40946, 70528,\n",
       "       62043, 22588, 53307,  9738, 31819, 15765, 37437, 70372, 46481,\n",
       "        2424, 45454, 71941, 47385, 57687, 12675, 63602, 27042, 11345,\n",
       "       45650, 70597, 23640, 44624, 35694,  4980, 40622, 50594, 32690,\n",
       "        1380,  6374, 45070, 12562, 32099, 54655,  6850, 66083, 32138,\n",
       "       65791,  8105, 30731, 57033, 49167, 60703, 27385, 15674, 44474,\n",
       "       56092, 73696, 65489, 63913, 20575, 11886,  5705, 65250, 16325,\n",
       "       51097,  1370, 34496, 46285,  3316, 29435,  6292, 45317, 41271,\n",
       "       75640, 50744, 75242,  4496, 28331, 79743, 79658, 41894, 74233,\n",
       "       36220, 25307, 44899, 21591, 48657, 21702, 48215, 23987,  3732,\n",
       "       37262, 40978, 69637,  7545, 49108, 13061, 68429, 63418, 69351,\n",
       "       46609,  6729, 11165, 16056, 53175, 35905, 56894, 46352, 58202,\n",
       "       66885, 75951, 23389, 47215,  6255, 61160, 14504, 22184, 12278,\n",
       "       24814, 54452, 21181, 46249, 18049,   129, 65230, 65069, 80225,\n",
       "       21402, 40432, 24848, 26277, 14195, 21975,   639, 48491, 31281,\n",
       "       67773, 11503,  8821, 23536, 50697, 55457, 49609, 62404, 39845,\n",
       "       57172, 75644, 67835, 35026,  5540,  2863, 68720, 77378, 37410,\n",
       "       50307, 37458, 11706, 75835, 42771,  7782, 37715, 32294, 10883,\n",
       "        6162, 59971, 59681, 17341, 29654, 78292, 45310, 29948, 47573,\n",
       "        5672, 79031, 49320, 22574, 24346, 49721, 54957, 48888, 23133,\n",
       "       46931, 52408, 74178, 68260, 26795, 38454, 37261,   904, 26980,\n",
       "       48490, 49739, 60566, 49569, 78678, 72222, 24608, 50421, 53327,\n",
       "       55554, 15442, 64027, 45167, 27671, 34172, 22596, 51651, 16283,\n",
       "       43449, 17398,  6278,   849, 70630, 21344, 30724, 13771,  1698,\n",
       "        5744,  1406,  6379, 64895, 73384, 50922, 13635, 32426, 60983,\n",
       "       27434, 70722, 20669, 61029, 78872, 38999,  4756, 15749, 22565,\n",
       "       58831,  4156, 78492,   379,  4896, 14727,  5281,  8621, 69180,\n",
       "       23409, 67082, 31206, 53858, 55598, 15909,  6751, 62693, 36577,\n",
       "       20531, 30699, 38186, 74677, 15471, 59000, 37942,  5527, 24281,\n",
       "       18047, 71206,  8964, 40565, 29873, 43601, 25030,  6724,  1209,\n",
       "       70367, 18160, 54467, 36982, 14363,  5890, 73396, 44936, 55977,\n",
       "       55769, 32258, 37905, 79146, 16870, 17722, 75274, 62711,  2848,\n",
       "       69217,  9942, 49979, 36133, 43563, 34750, 65411,  1779, 33477,\n",
       "       69226,   820, 30398, 31191,  9747, 34817, 13860,  2413, 51577,\n",
       "       23725, 32364, 21163, 39528, 20037,  2495, 54960, 42530,  6636,\n",
       "       16457, 18895, 65521, 64389, 58502, 22441,  4133, 68669, 59502,\n",
       "       29853,  4947, 64937, 59558, 44532,  1611, 55607, 34718, 57718,\n",
       "       44017, 62352, 77328, 73620, 40215, 30252, 46523,   990, 46304,\n",
       "       65966, 71712, 36143, 54816, 38508, 57411, 11924, 12811, 51695,\n",
       "       57054, 73238, 75472, 19679, 53727,  3500, 43360, 15680, 38005,\n",
       "       23260, 57313, 51538, 62121, 23934, 35826, 52383, 61201, 57107,\n",
       "       69609, 23338, 74872, 43920, 72468,  8872, 60514, 28288, 16882,\n",
       "       76473, 34393, 56090, 10074, 38299, 25631,   942, 74331, 32312,\n",
       "       19575, 19443, 25617, 54328, 38423, 71192, 14238, 68198, 40163,\n",
       "         800, 63807, 29454, 64685, 72332, 77368,  5426, 70070, 47535,\n",
       "       77840, 78158, 26673, 17288, 20663, 61711, 24538, 25128, 22688,\n",
       "       40166, 45328, 13176, 55375, 68183, 69100, 31062, 50716, 20438,\n",
       "       42173, 43047, 13461,  3623, 59636, 68987, 12058, 50174, 73732,\n",
       "       47253, 35416, 79360, 14545, 63595, 58809,  1861, 45521, 74565,\n",
       "       56385, 18731,  7225, 11044, 51669, 55580, 45744, 31293, 73795,\n",
       "       50169, 79975, 52444, 58746, 12723, 29699, 26303, 56475,  4294,\n",
       "        4399, 41317,  6331, 14708, 57916,  2054, 59179, 58994, 26962,\n",
       "        9799, 57678, 12484, 37379, 49659, 43226, 79401, 52549, 33768,\n",
       "       31583, 22499, 25066, 67008, 62998, 60637, 49804, 52073, 74319,\n",
       "       49197, 74295, 45444, 21979,  4397, 75371,  1519, 15180, 17491,\n",
       "        8445, 60033, 19409,  4235,  1532,  7306, 79331, 15564, 17336,\n",
       "       38433, 61339,   785, 22170, 59435, 44627, 62625,  5942, 73749,\n",
       "       32155, 53031, 38216, 61081, 14737, 52633, 46290, 37318, 11285,\n",
       "       63309, 11785, 18651, 30948,  6242, 55079,  6950, 14987, 49248,\n",
       "       28202, 39824, 40219,   491, 18762, 13444, 22911, 61210, 29946,\n",
       "       54776, 51467, 76528, 48316, 12404, 21951, 63245, 40033, 61656,\n",
       "       34084, 67020, 42725,  7335, 58006,  6716, 43727, 62586, 71792,\n",
       "       46433,  7147, 70358, 28044, 14768, 65556, 13078, 17014, 28208,\n",
       "        3614, 18032, 31794, 73409, 70026,  5286, 26919,  7896, 75003,\n",
       "        9931,  4493, 67372, 51841,  2282,  7300, 69777, 49652, 27375,\n",
       "       76936, 47159, 34099, 45775, 54500, 57212,  1655, 17129, 22591,\n",
       "       24148, 35479, 51069, 26108, 46514, 45196, 32520, 25482, 30237,\n",
       "       37674, 68940, 56532, 59027,  7506, 72776, 56272, 52454,  2031,\n",
       "       45685, 69223, 76857, 77011, 38409, 14318, 14516, 28145, 52854,\n",
       "       74714, 43598, 56209, 35957, 24298, 17798, 24531, 41865, 49587,\n",
       "        4260, 18519, 19892, 34841, 37749, 45453, 46574, 24133, 66891,\n",
       "       61950, 15416, 66834, 56164, 45761, 63130, 60548, 53939, 48757,\n",
       "       36311, 30353, 55101,   120, 19716, 23956, 25334,  5470, 73709,\n",
       "       52104, 49376, 14984, 17527, 12762, 50016, 42257, 29002, 69132,\n",
       "       21602, 10155, 54104, 17188, 42204, 70503, 27776, 70417, 58234,\n",
       "       40819, 36740,  1355, 75177, 68743,  2460, 55118, 63019, 40080,\n",
       "       43713, 26341, 17973, 16014, 66765, 60475, 27101, 46327, 27719,\n",
       "       25141, 76888, 57291, 31602, 50173, 14878,  7350, 44227, 65777,\n",
       "       19361, 25860, 66405, 75237, 51746, 73973, 40282, 75152, 72563,\n",
       "       15108, 79541, 19204, 63433, 27697,  1080, 79970, 14873, 63468,\n",
       "       60624, 65097, 75760, 16388,  8309, 78740, 70518, 51727, 16561,\n",
       "       39316, 37222, 12707, 66727, 31375,  5266, 53572, 71490, 62433,\n",
       "       24124,  9634, 14940, 54289, 36883, 48697, 17409, 72752, 51211,\n",
       "       20304, 67304,  4560, 40081, 55590,  5077, 49365, 47340, 72531,\n",
       "       55969, 13728, 18966, 67101,  3693, 22637, 33689, 42584, 79196,\n",
       "       44870, 59237, 46014, 59126, 30697, 62434, 75377, 31990, 78527,\n",
       "       76064, 74741, 21265,  2777, 40905, 27017, 41801,  1787, 10978,\n",
       "       41300, 50561, 76974, 72459,  5012,  6868, 17054, 57177, 68610,\n",
       "       35113, 61152,  6263,  5375, 38982, 20888, 55429, 14710, 42421,\n",
       "       13252, 71269, 38723, 25638, 69658, 50158, 20164, 13020, 54984,\n",
       "       34103,  6974, 36426,  4673, 54639, 78998, 80201, 50013, 52241,\n",
       "       28021, 18656, 59268, 65571,  1202, 31714, 22968, 31044, 29019,\n",
       "       45270, 65620, 23964, 23275,  5465, 64393,  8039, 41622, 28307,\n",
       "       10877, 49311, 48193, 27506, 79239, 73748,  3168, 78893, 68251,\n",
       "       56616, 44506,  8259, 44896, 47783, 75948, 60292,  3980, 68109,\n",
       "       61219, 16690, 12663,  2170, 52658, 45704, 68432,  9328, 18466,\n",
       "       42426, 33893, 70817, 28621,  6132, 41981, 74118, 29382, 19206,\n",
       "       29712, 10170, 64590, 17334, 12795, 77970, 13535, 16647, 34146,\n",
       "       33062, 29931, 33061, 15109, 47473, 12710, 68123, 45246, 50636,\n",
       "       72581, 66268, 70930, 59552, 54734,  9603, 75082, 72615, 44842,\n",
       "       15917])"
      ]
     },
     "execution_count": 54,
     "metadata": {},
     "output_type": "execute_result"
    }
   ],
   "source": [
    "nsamples = 1000\n",
    "downSampleMask = np.random.choice(range(len(ufos)-1), nsamples, replace=False)\n",
    "downSampleMask"
   ]
  },
  {
   "cell_type": "code",
   "execution_count": 55,
   "id": "95ae9758",
   "metadata": {},
   "outputs": [],
   "source": [
    "ufosDS = ufos.loc[downSampleMask]"
   ]
  },
  {
   "cell_type": "code",
   "execution_count": 56,
   "id": "eaea359c",
   "metadata": {},
   "outputs": [
    {
     "data": {
      "text/plain": [
       "1000"
      ]
     },
     "execution_count": 56,
     "metadata": {},
     "output_type": "execute_result"
    }
   ],
   "source": [
    "len(ufosDS)"
   ]
  },
  {
   "cell_type": "code",
   "execution_count": 57,
   "id": "93ba2e08",
   "metadata": {},
   "outputs": [
    {
     "data": {
      "text/html": [
       "<div>\n",
       "<style scoped>\n",
       "    .dataframe tbody tr th:only-of-type {\n",
       "        vertical-align: middle;\n",
       "    }\n",
       "\n",
       "    .dataframe tbody tr th {\n",
       "        vertical-align: top;\n",
       "    }\n",
       "\n",
       "    .dataframe thead th {\n",
       "        text-align: right;\n",
       "    }\n",
       "</style>\n",
       "<table border=\"1\" class=\"dataframe\">\n",
       "  <thead>\n",
       "    <tr style=\"text-align: right;\">\n",
       "      <th></th>\n",
       "      <th>date</th>\n",
       "      <th>city</th>\n",
       "      <th>state</th>\n",
       "      <th>country</th>\n",
       "      <th>shape</th>\n",
       "      <th>duration_seconds</th>\n",
       "      <th>duration</th>\n",
       "      <th>comment</th>\n",
       "      <th>report_date</th>\n",
       "      <th>latitude</th>\n",
       "      <th>longitude</th>\n",
       "    </tr>\n",
       "  </thead>\n",
       "  <tbody>\n",
       "    <tr>\n",
       "      <th>4991</th>\n",
       "      <td>1995-10-28 01:30:00</td>\n",
       "      <td>greenwood</td>\n",
       "      <td>ca</td>\n",
       "      <td>us</td>\n",
       "      <td>NaN</td>\n",
       "      <td>10800.0</td>\n",
       "      <td>3 hrs.</td>\n",
       "      <td>Man &amp;amp; wife see very bright obj do &amp;quot;lo...</td>\n",
       "      <td>1999-11-02</td>\n",
       "      <td>38.896667</td>\n",
       "      <td>-120.911667</td>\n",
       "    </tr>\n",
       "    <tr>\n",
       "      <th>60125</th>\n",
       "      <td>2004-07-27 18:00:00</td>\n",
       "      <td>nashville</td>\n",
       "      <td>tn</td>\n",
       "      <td>us</td>\n",
       "      <td>other</td>\n",
       "      <td>900.0</td>\n",
       "      <td>10-15 minutes</td>\n",
       "      <td>A Shapeshifting Black Balloon Flashed A Red Li...</td>\n",
       "      <td>2009-01-10</td>\n",
       "      <td>36.165833</td>\n",
       "      <td>-86.784444</td>\n",
       "    </tr>\n",
       "    <tr>\n",
       "      <th>62015</th>\n",
       "      <td>2009-07-04 22:00:00</td>\n",
       "      <td>mechanicsburg</td>\n",
       "      <td>pa</td>\n",
       "      <td>us</td>\n",
       "      <td>light</td>\n",
       "      <td>120.0</td>\n",
       "      <td>2 minutes</td>\n",
       "      <td>Pink light in the sky</td>\n",
       "      <td>2009-08-05</td>\n",
       "      <td>40.214167</td>\n",
       "      <td>-77.008889</td>\n",
       "    </tr>\n",
       "    <tr>\n",
       "      <th>59680</th>\n",
       "      <td>2006-07-25 05:45:00</td>\n",
       "      <td>fort lauderdale</td>\n",
       "      <td>fl</td>\n",
       "      <td>us</td>\n",
       "      <td>light</td>\n",
       "      <td>300.0</td>\n",
       "      <td>5 min</td>\n",
       "      <td>fast moving light&amp;#44 not flashing or blinking...</td>\n",
       "      <td>2006-10-30</td>\n",
       "      <td>26.121944</td>\n",
       "      <td>-80.143611</td>\n",
       "    </tr>\n",
       "    <tr>\n",
       "      <th>10592</th>\n",
       "      <td>1995-11-19 18:37:00</td>\n",
       "      <td>redding</td>\n",
       "      <td>ca</td>\n",
       "      <td>us</td>\n",
       "      <td>NaN</td>\n",
       "      <td>600.0</td>\n",
       "      <td>10 min.</td>\n",
       "      <td>Father w/ children witness orange ball of ligh...</td>\n",
       "      <td>1999-11-02</td>\n",
       "      <td>40.586667</td>\n",
       "      <td>-122.390556</td>\n",
       "    </tr>\n",
       "    <tr>\n",
       "      <th>...</th>\n",
       "      <td>...</td>\n",
       "      <td>...</td>\n",
       "      <td>...</td>\n",
       "      <td>...</td>\n",
       "      <td>...</td>\n",
       "      <td>...</td>\n",
       "      <td>...</td>\n",
       "      <td>...</td>\n",
       "      <td>...</td>\n",
       "      <td>...</td>\n",
       "      <td>...</td>\n",
       "    </tr>\n",
       "    <tr>\n",
       "      <th>9603</th>\n",
       "      <td>2009-11-15 20:30:00</td>\n",
       "      <td>port st john</td>\n",
       "      <td>fl</td>\n",
       "      <td>NaN</td>\n",
       "      <td>NaN</td>\n",
       "      <td>180.0</td>\n",
       "      <td>3 min</td>\n",
       "      <td>Strange orange glowing mass flys over Brevard ...</td>\n",
       "      <td>2009-12-12</td>\n",
       "      <td>28.476946</td>\n",
       "      <td>-80.788666</td>\n",
       "    </tr>\n",
       "    <tr>\n",
       "      <th>75082</th>\n",
       "      <td>2001-09-16 20:30:00</td>\n",
       "      <td>singapore</td>\n",
       "      <td>NaN</td>\n",
       "      <td>NaN</td>\n",
       "      <td>circle</td>\n",
       "      <td>480.0</td>\n",
       "      <td>2-8 mins</td>\n",
       "      <td>they have light all round their carft.</td>\n",
       "      <td>2002-08-28</td>\n",
       "      <td>1.352083</td>\n",
       "      <td>103.819836</td>\n",
       "    </tr>\n",
       "    <tr>\n",
       "      <th>72615</th>\n",
       "      <td>2003-08-09 23:50:00</td>\n",
       "      <td>doncaster (uk/england)</td>\n",
       "      <td>NaN</td>\n",
       "      <td>gb</td>\n",
       "      <td>chevron</td>\n",
       "      <td>5.0</td>\n",
       "      <td>5 seconds</td>\n",
       "      <td>Boomerang shaped&amp;#44 orange craft. Made no sou...</td>\n",
       "      <td>2003-08-28</td>\n",
       "      <td>53.533333</td>\n",
       "      <td>-1.116667</td>\n",
       "    </tr>\n",
       "    <tr>\n",
       "      <th>44842</th>\n",
       "      <td>1971-05-29 21:00:00</td>\n",
       "      <td>palos verde (northeast of)</td>\n",
       "      <td>ca</td>\n",
       "      <td>NaN</td>\n",
       "      <td>sphere</td>\n",
       "      <td>900.0</td>\n",
       "      <td>12-15 minutes</td>\n",
       "      <td>There seemed to be no dissipation of the glow ...</td>\n",
       "      <td>2003-07-16</td>\n",
       "      <td>33.898545</td>\n",
       "      <td>-117.581715</td>\n",
       "    </tr>\n",
       "    <tr>\n",
       "      <th>15917</th>\n",
       "      <td>1999-11-08 20:45:00</td>\n",
       "      <td>austin</td>\n",
       "      <td>tx</td>\n",
       "      <td>us</td>\n",
       "      <td>unknown</td>\n",
       "      <td>1200.0</td>\n",
       "      <td>20 minutes</td>\n",
       "      <td>I witnessed an extremely bright&amp;#44 pulsing ob...</td>\n",
       "      <td>1999-11-17</td>\n",
       "      <td>30.266944</td>\n",
       "      <td>-97.742778</td>\n",
       "    </tr>\n",
       "  </tbody>\n",
       "</table>\n",
       "<p>1000 rows × 11 columns</p>\n",
       "</div>"
      ],
      "text/plain": [
       "                     date                        city state country    shape  \\\n",
       "4991  1995-10-28 01:30:00                   greenwood    ca      us      NaN   \n",
       "60125 2004-07-27 18:00:00                   nashville    tn      us    other   \n",
       "62015 2009-07-04 22:00:00               mechanicsburg    pa      us    light   \n",
       "59680 2006-07-25 05:45:00             fort lauderdale    fl      us    light   \n",
       "10592 1995-11-19 18:37:00                     redding    ca      us      NaN   \n",
       "...                   ...                         ...   ...     ...      ...   \n",
       "9603  2009-11-15 20:30:00                port st john    fl     NaN      NaN   \n",
       "75082 2001-09-16 20:30:00                   singapore   NaN     NaN   circle   \n",
       "72615 2003-08-09 23:50:00      doncaster (uk/england)   NaN      gb  chevron   \n",
       "44842 1971-05-29 21:00:00  palos verde (northeast of)    ca     NaN   sphere   \n",
       "15917 1999-11-08 20:45:00                      austin    tx      us  unknown   \n",
       "\n",
       "       duration_seconds       duration  \\\n",
       "4991            10800.0         3 hrs.   \n",
       "60125             900.0  10-15 minutes   \n",
       "62015             120.0      2 minutes   \n",
       "59680             300.0          5 min   \n",
       "10592             600.0        10 min.   \n",
       "...                 ...            ...   \n",
       "9603              180.0          3 min   \n",
       "75082             480.0       2-8 mins   \n",
       "72615               5.0      5 seconds   \n",
       "44842             900.0  12-15 minutes   \n",
       "15917            1200.0     20 minutes   \n",
       "\n",
       "                                                 comment report_date  \\\n",
       "4991   Man &amp; wife see very bright obj do &quot;lo...  1999-11-02   \n",
       "60125  A Shapeshifting Black Balloon Flashed A Red Li...  2009-01-10   \n",
       "62015                              Pink light in the sky  2009-08-05   \n",
       "59680  fast moving light&#44 not flashing or blinking...  2006-10-30   \n",
       "10592  Father w/ children witness orange ball of ligh...  1999-11-02   \n",
       "...                                                  ...         ...   \n",
       "9603   Strange orange glowing mass flys over Brevard ...  2009-12-12   \n",
       "75082             they have light all round their carft.  2002-08-28   \n",
       "72615  Boomerang shaped&#44 orange craft. Made no sou...  2003-08-28   \n",
       "44842  There seemed to be no dissipation of the glow ...  2003-07-16   \n",
       "15917  I witnessed an extremely bright&#44 pulsing ob...  1999-11-17   \n",
       "\n",
       "        latitude   longitude  \n",
       "4991   38.896667 -120.911667  \n",
       "60125  36.165833  -86.784444  \n",
       "62015  40.214167  -77.008889  \n",
       "59680  26.121944  -80.143611  \n",
       "10592  40.586667 -122.390556  \n",
       "...          ...         ...  \n",
       "9603   28.476946  -80.788666  \n",
       "75082   1.352083  103.819836  \n",
       "72615  53.533333   -1.116667  \n",
       "44842  33.898545 -117.581715  \n",
       "15917  30.266944  -97.742778  \n",
       "\n",
       "[1000 rows x 11 columns]"
      ]
     },
     "execution_count": 57,
     "metadata": {},
     "output_type": "execute_result"
    }
   ],
   "source": [
    "ufosDS"
   ]
  },
  {
   "cell_type": "code",
   "execution_count": 58,
   "id": "fd2ef090",
   "metadata": {},
   "outputs": [
    {
     "data": {
      "application/vnd.jupyter.widget-view+json": {
       "model_id": "dd404c4e3bdb4fc68d397846c560cec5",
       "version_major": 2,
       "version_minor": 0
      },
      "text/plain": [
       "Figure(axes=[Axis(label='Longitude', scale=LinearScale()), Axis(label='Latitude', orientation='vertical', scal…"
      ]
     },
     "metadata": {},
     "output_type": "display_data"
    }
   ],
   "source": [
    "# 1. data = for a scatter plot is the downsampled data\n",
    "\n",
    "# 2. scales\n",
    "x_sc = bqplot.LinearScale()\n",
    "y_sc = bqplot.LinearScale()\n",
    "\n",
    "# 3. axis\n",
    "x_ax = bqplot.Axis(scale=x_sc, label='Longitude')\n",
    "y_ax = bqplot.Axis(scale=y_sc, orientation='vertical', label='Latitude')\n",
    "\n",
    "# 4. marks\n",
    "scatters = bqplot.Scatter(x=ufosDS['longitude'], y=ufosDS['latitude'],\n",
    "                         scales = {'x':x_sc, 'y':y_sc})\n",
    "\n",
    "# skipping a bit... right into figure\n",
    "fig = bqplot.Figure(marks=[scatters],axes=[x_ax, y_ax])\n",
    "fig"
   ]
  },
  {
   "cell_type": "code",
   "execution_count": 59,
   "id": "64cc48ce",
   "metadata": {},
   "outputs": [
    {
     "data": {
      "application/vnd.jupyter.widget-view+json": {
       "model_id": "3facc9a45ae14a9c97dc6359a0394b07",
       "version_major": 2,
       "version_minor": 0
      },
      "text/plain": [
       "Figure(axes=[Axis(label='Longitude', scale=LinearScale()), Axis(label='Latitude', orientation='vertical', scal…"
      ]
     },
     "metadata": {},
     "output_type": "display_data"
    }
   ],
   "source": [
    "# 1. data = for a scatter plot is the downsampled data\n",
    "\n",
    "# 2. scales\n",
    "x_sc = bqplot.LinearScale()\n",
    "y_sc = bqplot.LinearScale()\n",
    "col_sc = bqplot.ColorScale()\n",
    "\n",
    "# 3. axis\n",
    "x_ax = bqplot.Axis(scale=x_sc, label='Longitude')\n",
    "y_ax = bqplot.Axis(scale=y_sc, orientation='vertical', label='Latitude')\n",
    "col_ax = bqplot.ColorAxis(scale=col_sc, label='Duration in sec', orientation='vertical', side='right')\n",
    "\n",
    "# 4. marks\n",
    "scatters = bqplot.Scatter(x=ufosDS['longitude'], y=ufosDS['latitude'],\n",
    "                          color = ufosDS['duration_seconds'],\n",
    "                         scales = {'x':x_sc, 'y':y_sc, 'color':col_sc})\n",
    "\n",
    "# skipping a bit... right into figure\n",
    "fig = bqplot.Figure(marks=[scatters],axes=[x_ax, y_ax,col_ax])\n",
    "fig"
   ]
  },
  {
   "cell_type": "code",
   "execution_count": 60,
   "id": "f01f0451",
   "metadata": {},
   "outputs": [
    {
     "data": {
      "text/plain": [
       "(0.5, 432000.0)"
      ]
     },
     "execution_count": 60,
     "metadata": {},
     "output_type": "execute_result"
    }
   ],
   "source": [
    "ufosDS['duration_seconds'].min(), ufosDS['duration_seconds'].max()"
   ]
  },
  {
   "cell_type": "code",
   "execution_count": 61,
   "id": "cd68c60a",
   "metadata": {},
   "outputs": [
    {
     "data": {
      "application/vnd.jupyter.widget-view+json": {
       "model_id": "70bb00d05cfb4ad4b878eefe10f7239b",
       "version_major": 2,
       "version_minor": 0
      },
      "text/plain": [
       "Figure(axes=[Axis(label='Longitude', scale=LinearScale()), Axis(label='Latitude', orientation='vertical', scal…"
      ]
     },
     "metadata": {},
     "output_type": "display_data"
    }
   ],
   "source": [
    "# 1. data = for a scatter plot is the downsampled data\n",
    "\n",
    "# 2. scales\n",
    "x_sc = bqplot.LinearScale()\n",
    "y_sc = bqplot.LinearScale()\n",
    "col_sc = bqplot.ColorScale()\n",
    "\n",
    "# 3. axis\n",
    "x_ax = bqplot.Axis(scale=x_sc, label='Longitude')\n",
    "y_ax = bqplot.Axis(scale=y_sc, orientation='vertical', label='Latitude')\n",
    "col_ax = bqplot.ColorAxis(scale=col_sc, label='Duration in sec', orientation='vertical', side='right')\n",
    "\n",
    "# 4. marks\n",
    "scatters = bqplot.Scatter(x=ufosDS['longitude'], y=ufosDS['latitude'],\n",
    "                          color = np.log10(ufosDS['duration_seconds']),\n",
    "                         scales = {'x':x_sc, 'y':y_sc, 'color':col_sc})\n",
    "\n",
    "# skipping a bit... right into figure\n",
    "fig = bqplot.Figure(marks=[scatters],axes=[x_ax, y_ax,col_ax])\n",
    "fig"
   ]
  },
  {
   "cell_type": "code",
   "execution_count": 62,
   "id": "995ed803",
   "metadata": {},
   "outputs": [],
   "source": [
    "def generate_histogram_from_lat_long(ufos, nlong=20, nlat=20, longmin=-150, longmax=150,\n",
    "                                     latmin=-40, latmax=70,\n",
    "                                     takeLog=True):\n",
    "    long_bins = np.linspace(longmin, longmax, nlong+1)\n",
    "    lat_bins = np.linspace(latmin, latmax, nlat+1)\n",
    "    hist2d, long_edges, lat_edges = np.histogram2d(ufos['longitude'], \n",
    "                                                   ufos['latitude'], \n",
    "                                                   weights=ufos['duration_seconds'],\n",
    "                                                  bins = [long_bins,lat_bins])\n",
    "    hist2d = hist2d.T\n",
    "    if takeLog:\n",
    "        hist2d[hist2d <= 0] = np.nan # set zeros to NaNs\n",
    "        # then take log\n",
    "        hist2d = np.log10(hist2d)\n",
    "    long_centers = (long_edges[:-1] + long_edges[1:]) / 2\n",
    "    lat_centers = (lat_edges[:-1] + lat_edges[1:]) / 2\n",
    "    return hist2d, long_centers, lat_centers, long_edges, lat_edges"
   ]
  },
  {
   "cell_type": "code",
   "execution_count": 63,
   "id": "42f2496f",
   "metadata": {},
   "outputs": [],
   "source": [
    "hist2d, long_centers, lat_centers, long_edges, lat_edges = generate_histogram_from_lat_long(ufos)"
   ]
  },
  {
   "cell_type": "code",
   "execution_count": 64,
   "id": "8b00b127",
   "metadata": {},
   "outputs": [],
   "source": [
    "#hist2d"
   ]
  },
  {
   "cell_type": "code",
   "execution_count": 65,
   "id": "d5c09c3d",
   "metadata": {},
   "outputs": [
    {
     "data": {
      "application/vnd.jupyter.widget-view+json": {
       "model_id": "176f481d667c406fa62cfc266b533020",
       "version_major": 2,
       "version_minor": 0
      },
      "text/plain": [
       "Figure(axes=[ColorAxis(orientation='vertical', scale=ColorScale(max=8.09710747658943, min=0.0, scheme='RdPu'),…"
      ]
     },
     "metadata": {},
     "output_type": "display_data"
    }
   ],
   "source": [
    "# 1. data for the UFOS lat/long map (pre-binned)\n",
    "\n",
    "# 2. scales\n",
    "col_sc = bqplot.ColorScale(scheme=\"RdPu\", min=np.nanmin(hist2d), max=np.nanmax(hist2d))\n",
    "x_sc = bqplot.LinearScale()\n",
    "y_sc = bqplot.LinearScale()\n",
    "\n",
    "# 3. axis\n",
    "col_ax = bqplot.ColorAxis(scale=col_sc, orientation='vertical', side='right')\n",
    "x_ax = bqplot.Axis(scale=x_sc, label='Longitude')\n",
    "y_ax = bqplot.Axis(scale=y_sc, label='Latitude', orientation='vertical')\n",
    "\n",
    "# 4. marks\n",
    "heat_map = bqplot.GridHeatMap(color=hist2d, row=lat_centers, column=long_centers,\n",
    "                             scales={'color':col_sc, 'row':y_sc, 'column':x_sc},\n",
    "                             interactions={'click':'select'},\n",
    "                             selected_style={'fill':'blue'})\n",
    "\n",
    "# 5. interactivity\n",
    "\n",
    "# all together now!\n",
    "fig = bqplot.Figure(marks=[heat_map], axes=[col_ax, x_ax, y_ax])\n",
    "fig"
   ]
  },
  {
   "cell_type": "code",
   "execution_count": 66,
   "id": "4572d67e",
   "metadata": {},
   "outputs": [
    {
     "data": {
      "application/vnd.jupyter.widget-view+json": {
       "model_id": "0650cba74ba544f98aac0560c8fdd568",
       "version_major": 2,
       "version_minor": 0
      },
      "text/plain": [
       "VBox(children=(Label(value=''), Figure(axes=[ColorAxis(orientation='vertical', scale=ColorScale(max=8.09710747…"
      ]
     },
     "metadata": {},
     "output_type": "display_data"
    }
   ],
   "source": [
    "# 1. data for the UFOS lat/long map (pre-binned)\n",
    "\n",
    "# 2. scales\n",
    "col_sc = bqplot.ColorScale(scheme=\"RdPu\", min=np.nanmin(hist2d), max=np.nanmax(hist2d))\n",
    "x_sc = bqplot.LinearScale()\n",
    "y_sc = bqplot.LinearScale()\n",
    "\n",
    "# 3. axis\n",
    "col_ax = bqplot.ColorAxis(scale=col_sc, orientation='vertical', side='right')\n",
    "x_ax = bqplot.Axis(scale=x_sc, label='Longitude')\n",
    "y_ax = bqplot.Axis(scale=y_sc, label='Latitude', orientation='vertical')\n",
    "\n",
    "# 4. marks\n",
    "heat_map = bqplot.GridHeatMap(color=hist2d, row=lat_centers, column=long_centers,\n",
    "                             scales={'color':col_sc, 'row':y_sc, 'column':x_sc},\n",
    "                             interactions={'click':'select'},\n",
    "                             selected_style={'fill':'blue'})\n",
    "\n",
    "# 5. interactivity\n",
    "selectedLabel = ipywidgets.Label()\n",
    "def get_data_value(change):\n",
    "    if len(change['owner'].selected) == 1: # only 1 selection allowed\n",
    "        i,j = change['owner'].selected[0]\n",
    "        v = hist2d[i,j]\n",
    "        selectedLabel.value = 'Total duration in log(sec)=' + str(v)\n",
    "        \n",
    "# make sure to link to the trait that is changing in the heat map\n",
    "heat_map.observe(get_data_value, 'selected')\n",
    "\n",
    "# all together now!\n",
    "fig = bqplot.Figure(marks=[heat_map], axes=[col_ax, x_ax, y_ax])\n",
    "#fig\n",
    "myDashboard = ipywidgets.VBox([selectedLabel, fig])\n",
    "myDashboard"
   ]
  },
  {
   "cell_type": "code",
   "execution_count": 67,
   "id": "16605463",
   "metadata": {},
   "outputs": [],
   "source": [
    "import datetime as dt"
   ]
  },
  {
   "cell_type": "code",
   "execution_count": 69,
   "id": "a343e4cb",
   "metadata": {},
   "outputs": [],
   "source": [
    "# 2. scales for scatter plot\n",
    "x_scl = bqplot.DateScale(min=dt.datetime(1950,1,1),max=dt.datetime(2022,1,1))\n",
    "y_scl = bqplot.LogScale()"
   ]
  },
  {
   "cell_type": "code",
   "execution_count": 70,
   "id": "7cd8c26e",
   "metadata": {},
   "outputs": [],
   "source": [
    "ax_xcl = bqplot.Axis(label='Date', scale=x_scl)\n",
    "ax_ycl = bqplot.Axis(label='Duration in Sec', scale=y_scl, orientation='vertical')"
   ]
  },
  {
   "cell_type": "code",
   "execution_count": 71,
   "id": "5340a985",
   "metadata": {},
   "outputs": [],
   "source": [
    "i,j = 19,0 # I know this has a lot of data!"
   ]
  },
  {
   "cell_type": "code",
   "execution_count": 72,
   "id": "619997cd",
   "metadata": {},
   "outputs": [],
   "source": [
    "# ufos[i,j] this won't work!  our data is not in a 20x20 grid format\n",
    "long_min = long_edges[j] # j is associated with y\n",
    "long_max = long_edges[j+1]"
   ]
  },
  {
   "cell_type": "code",
   "execution_count": 73,
   "id": "e7a63765",
   "metadata": {},
   "outputs": [
    {
     "data": {
      "text/plain": [
       "(-150.0, -135.0)"
      ]
     },
     "execution_count": 73,
     "metadata": {},
     "output_type": "execute_result"
    }
   ],
   "source": [
    "long_min, long_max"
   ]
  },
  {
   "cell_type": "code",
   "execution_count": 74,
   "id": "e48950bb",
   "metadata": {},
   "outputs": [],
   "source": [
    "lat_min = lat_edges[i] # i is associated with x\n",
    "lat_max = lat_edges[i+1]"
   ]
  },
  {
   "cell_type": "code",
   "execution_count": 75,
   "id": "1565ae5d",
   "metadata": {},
   "outputs": [
    {
     "data": {
      "text/plain": [
       "(64.5, 70.0)"
      ]
     },
     "execution_count": 75,
     "metadata": {},
     "output_type": "execute_result"
    }
   ],
   "source": [
    "lat_min, lat_max"
   ]
  },
  {
   "cell_type": "code",
   "execution_count": 76,
   "id": "c4350780",
   "metadata": {},
   "outputs": [],
   "source": [
    "region_mask = ( (ufos['latitude']>=lat_min) & (ufos['latitude']<=lat_max) &\\\n",
    "              (ufos['longitude']>=long_min) & (ufos['longitude']<=long_max) )"
   ]
  },
  {
   "cell_type": "code",
   "execution_count": 77,
   "id": "d5fd285d",
   "metadata": {},
   "outputs": [
    {
     "data": {
      "text/plain": [
       "327      64.837778\n",
       "2845     64.837778\n",
       "3620     64.837778\n",
       "4602     64.751111\n",
       "6011     64.837778\n",
       "           ...    \n",
       "77347    64.751111\n",
       "77497    64.837778\n",
       "78571    64.837778\n",
       "79029    64.837778\n",
       "79470    64.837778\n",
       "Name: latitude, Length: 74, dtype: float64"
      ]
     },
     "execution_count": 77,
     "metadata": {},
     "output_type": "execute_result"
    }
   ],
   "source": [
    "ufos['latitude'][region_mask]"
   ]
  },
  {
   "cell_type": "code",
   "execution_count": 78,
   "id": "2dcd4d30",
   "metadata": {},
   "outputs": [
    {
     "data": {
      "text/plain": [
       "327     -147.716389\n",
       "2845    -147.716389\n",
       "3620    -147.716389\n",
       "4602    -147.349444\n",
       "6011    -147.716389\n",
       "            ...    \n",
       "77347   -147.349444\n",
       "77497   -147.716389\n",
       "78571   -147.716389\n",
       "79029   -147.716389\n",
       "79470   -147.716389\n",
       "Name: longitude, Length: 74, dtype: float64"
      ]
     },
     "execution_count": 78,
     "metadata": {},
     "output_type": "execute_result"
    }
   ],
   "source": [
    "ufos['longitude'][region_mask]"
   ]
  },
  {
   "cell_type": "code",
   "execution_count": 79,
   "id": "ce979382",
   "metadata": {},
   "outputs": [],
   "source": [
    "# 4. Marks\n",
    "scatters = bqplot.Scatter(x=ufos['date'][region_mask], \n",
    "                         y=ufos['duration_seconds'][region_mask],\n",
    "                         scales={'x':x_scl, 'y':y_scl})"
   ]
  },
  {
   "cell_type": "code",
   "execution_count": 80,
   "id": "1a344f14",
   "metadata": {},
   "outputs": [
    {
     "data": {
      "application/vnd.jupyter.widget-view+json": {
       "model_id": "ee836e0ca0794c1287d00c7c50b625e0",
       "version_major": 2,
       "version_minor": 0
      },
      "text/plain": [
       "Figure(axes=[Axis(label='Date', scale=DateScale(max=datetime.datetime(2022, 1, 1, 0, 0), min=datetime.datetime…"
      ]
     },
     "metadata": {},
     "output_type": "display_data"
    }
   ],
   "source": [
    "fig_dur = bqplot.Figure(marks=[scatters], axes=[ax_xcl, ax_ycl])\n",
    "fig_dur"
   ]
  },
  {
   "cell_type": "code",
   "execution_count": 81,
   "id": "790b8fc3",
   "metadata": {},
   "outputs": [],
   "source": [
    "# 1. data for the UFOS lat/long map (pre-binned)\n",
    "\n",
    "# 2. scales\n",
    "col_sc = bqplot.ColorScale(scheme=\"RdPu\", min=np.nanmin(hist2d), max=np.nanmax(hist2d))\n",
    "x_sc = bqplot.LinearScale()\n",
    "y_sc = bqplot.LinearScale()\n",
    "\n",
    "# 3. axis\n",
    "col_ax = bqplot.ColorAxis(scale=col_sc, orientation='vertical', side='right')\n",
    "x_ax = bqplot.Axis(scale=x_sc, label='Longitude')\n",
    "y_ax = bqplot.Axis(scale=y_sc, label='Latitude', orientation='vertical')\n",
    "\n",
    "# 4. marks\n",
    "heat_map = bqplot.GridHeatMap(color=hist2d, row=lat_centers, column=long_centers,\n",
    "                             scales={'color':col_sc, 'row':y_sc, 'column':x_sc},\n",
    "                             interactions={'click':'select'},\n",
    "                             selected_style={'fill':'blue'})\n",
    "\n",
    "# all together now!\n",
    "fig = bqplot.Figure(marks=[heat_map], axes=[col_ax, x_ax, y_ax])\n",
    "#fig\n",
    "#myDashboard = ipywidgets.VBox([selectedLabel, fig])\n",
    "#myDashboard"
   ]
  },
  {
   "cell_type": "code",
   "execution_count": 82,
   "id": "14f60ba8",
   "metadata": {},
   "outputs": [],
   "source": [
    "# 5. interactivity\n",
    "selectedLabel = ipywidgets.Label()\n",
    "def get_data_value(change):\n",
    "    if len(change['owner'].selected) == 1: # only 1 selection allowed\n",
    "        i,j = change['owner'].selected[0]\n",
    "        v = hist2d[i,j]\n",
    "        selectedLabel.value = 'Total duration in log(sec)=' + str(v)\n",
    "        long_min = long_edges[j] # j is associated with y\n",
    "        long_max = long_edges[j+1]\n",
    "        lat_min = lat_edges[i] # i is associated with x\n",
    "        lat_max = lat_edges[i+1]\n",
    "        region_mask = ( (ufos['latitude']>=lat_min) & (ufos['latitude']<=lat_max) &\\\n",
    "              (ufos['longitude']>=long_min) & (ufos['longitude']<=long_max) )\n",
    "        scatters.x = ufos['date'][region_mask]\n",
    "        scatters.y = ufos['duration_seconds'][region_mask]\n",
    "        \n",
    "# make sure to link to the trait that is changing in the heat map\n",
    "heat_map.observe(get_data_value, 'selected')"
   ]
  },
  {
   "cell_type": "code",
   "execution_count": 83,
   "id": "ae6dcf39",
   "metadata": {},
   "outputs": [
    {
     "data": {
      "application/vnd.jupyter.widget-view+json": {
       "model_id": "433f9575f3f14a6bb4099227e25b39a1",
       "version_major": 2,
       "version_minor": 0
      },
      "text/plain": [
       "VBox(children=(Label(value=''), HBox(children=(Figure(axes=[ColorAxis(orientation='vertical', scale=ColorScale…"
      ]
     },
     "metadata": {},
     "output_type": "display_data"
    }
   ],
   "source": [
    "fig.layout.min_width='500px'\n",
    "fig.layout.min_width='500px'\n",
    "\n",
    "figures = ipywidgets.HBox([fig, fig_dur])\n",
    "\n",
    "myDashboard = ipywidgets.VBox([selectedLabel, figures])\n",
    "myDashboard"
   ]
  },
  {
   "cell_type": "code",
   "execution_count": 84,
   "id": "29d6f0cb",
   "metadata": {},
   "outputs": [],
   "source": [
    "# bar plot\n",
    "\n",
    "# scales\n",
    "x_scl = bqplot.LinearScale()\n",
    "y_scl = bqplot.LinearScale()\n",
    "\n",
    "# axis\n",
    "ax_xcl = bqplot.Axis(label='Year', scale=x_scl)\n",
    "ax_ycl = bqplot.Axis(label='Total duration in sec', scale=y_scl, orientation='vertical')"
   ]
  },
  {
   "cell_type": "code",
   "execution_count": 85,
   "id": "9ac4225a",
   "metadata": {},
   "outputs": [],
   "source": [
    "i,j = 19,0 # I know this has a lot of data!\n",
    "long_min = long_edges[j] # j is associated with y\n",
    "long_max = long_edges[j+1]\n",
    "lat_min = lat_edges[i] # i is associated with x\n",
    "lat_max = lat_edges[i+1]\n",
    "region_mask = ( (ufos['latitude']>=lat_min) & (ufos['latitude']<=lat_max) &\\\n",
    "              (ufos['longitude']>=long_min) & (ufos['longitude']<=long_max) )"
   ]
  },
  {
   "cell_type": "code",
   "execution_count": 86,
   "id": "d6898203",
   "metadata": {},
   "outputs": [
    {
     "data": {
      "text/plain": [
       "0        1949\n",
       "1        1949\n",
       "2        1955\n",
       "3        1956\n",
       "4        1960\n",
       "         ... \n",
       "80327    2013\n",
       "80328    2013\n",
       "80329    2013\n",
       "80330    2013\n",
       "80331    2013\n",
       "Name: year, Length: 80332, dtype: int64"
      ]
     },
     "execution_count": 86,
     "metadata": {},
     "output_type": "execute_result"
    }
   ],
   "source": [
    "ufos['year'] = ufos['date'].dt.year\n",
    "ufos['year']"
   ]
  },
  {
   "cell_type": "code",
   "execution_count": 87,
   "id": "d2a1a81f",
   "metadata": {},
   "outputs": [],
   "source": [
    "dur, dur_edges = np.histogram(ufos['year'][region_mask], \n",
    "                             weights=ufos['duration_seconds'][region_mask],\n",
    "                             bins=10)"
   ]
  },
  {
   "cell_type": "code",
   "execution_count": 88,
   "id": "e6cda9b2",
   "metadata": {},
   "outputs": [
    {
     "data": {
      "application/vnd.jupyter.widget-view+json": {
       "model_id": "bdd8f35b38164f57b7c0d2e29265afa9",
       "version_major": 2,
       "version_minor": 0
      },
      "text/plain": [
       "Figure(axes=[Axis(label='Year', scale=LinearScale(), side='bottom'), Axis(label='Total duration in sec', orien…"
      ]
     },
     "metadata": {},
     "output_type": "display_data"
    }
   ],
   "source": [
    "dur_centers = (dur_edges[:-1]+dur_edges[1:])/2\n",
    "# marks\n",
    "dur_hist = bqplot.Bars(x=dur_centers, y=dur, scales={'x':x_scl, 'y':y_scl})\n",
    "fig_dur = bqplot.Figure(marks=[dur_hist],axes=[ax_xcl,ax_ycl])\n",
    "fig_dur"
   ]
  },
  {
   "cell_type": "code",
   "execution_count": 89,
   "id": "6437dd2a",
   "metadata": {},
   "outputs": [],
   "source": [
    "# 5. interactivity\n",
    "selectedLabel = ipywidgets.Label()\n",
    "def get_data_value(change):\n",
    "    if len(change['owner'].selected) == 1: # only 1 selection allowed\n",
    "        i,j = change['owner'].selected[0]\n",
    "        v = hist2d[i,j]\n",
    "        selectedLabel.value = 'Total duration in log(sec)=' + str(v)\n",
    "        long_min = long_edges[j] # j is associated with y\n",
    "        long_max = long_edges[j+1]\n",
    "        lat_min = lat_edges[i] # i is associated with x\n",
    "        lat_max = lat_edges[i+1]\n",
    "        region_mask = ( (ufos['latitude']>=lat_min) & (ufos['latitude']<=lat_max) &\\\n",
    "              (ufos['longitude']>=long_min) & (ufos['longitude']<=long_max) )\n",
    "        #scatters.x = ufos['date'][region_mask]\n",
    "        #scatters.y = ufos['duration_seconds'][region_mask]\n",
    "        if len(ufos['year'][region_mask])>0: # make sure we have data\n",
    "            dur, dur_edges = np.histogram(ufos['year'][region_mask], \n",
    "                                         weights=ufos['duration_seconds'][region_mask],\n",
    "                                         bins=10)     \n",
    "            dur_centers = (dur_edges[:-1]+dur_edges[1:])/2\n",
    "            dur_hist.x = dur_centers\n",
    "            dur_hist.y = dur\n",
    "            \n",
    "# make sure to link to the trait that is changing in the heat map\n",
    "heat_map.observe(get_data_value, 'selected')"
   ]
  },
  {
   "cell_type": "code",
   "execution_count": 90,
   "id": "89350e70",
   "metadata": {},
   "outputs": [],
   "source": [
    "# (I) GRIDHEAT MAP\n",
    "# 1. data for the UFOS lat/long map (pre-binned)\n",
    "\n",
    "# 2. scales\n",
    "col_sc = bqplot.ColorScale(scheme=\"RdPu\", min=np.nanmin(hist2d), max=np.nanmax(hist2d))\n",
    "x_sc = bqplot.LinearScale()\n",
    "y_sc = bqplot.LinearScale()\n",
    "\n",
    "# 3. axis\n",
    "col_ax = bqplot.ColorAxis(scale=col_sc, orientation='vertical', side='right')\n",
    "x_ax = bqplot.Axis(scale=x_sc, label='Longitude')\n",
    "y_ax = bqplot.Axis(scale=y_sc, label='Latitude', orientation='vertical')\n",
    "\n",
    "# 4. marks\n",
    "heat_map = bqplot.GridHeatMap(color=hist2d, row=lat_centers, column=long_centers,\n",
    "                             scales={'color':col_sc, 'row':y_sc, 'column':x_sc},\n",
    "                             interactions={'click':'select'},\n",
    "                             selected_style={'fill':'blue'})\n",
    "\n",
    "# all together now!\n",
    "fig = bqplot.Figure(marks=[heat_map], axes=[col_ax, x_ax, y_ax])"
   ]
  },
  {
   "cell_type": "code",
   "execution_count": 91,
   "id": "5bb410da",
   "metadata": {},
   "outputs": [],
   "source": [
    "# (II) BAR PLOT\n",
    "\n",
    "# scales\n",
    "x_scl = bqplot.LinearScale()\n",
    "y_scl = bqplot.LinearScale()\n",
    "\n",
    "# axis\n",
    "ax_xcl = bqplot.Axis(label='Year', scale=x_scl)\n",
    "ax_ycl = bqplot.Axis(label='Total duration in sec', scale=y_scl, orientation='vertical')\n",
    "\n",
    "# marks/data\n",
    "i,j = 19,0 # I know this has a lot of data!\n",
    "long_min = long_edges[j] # j is associated with y\n",
    "long_max = long_edges[j+1]\n",
    "lat_min = lat_edges[i] # i is associated with x\n",
    "lat_max = lat_edges[i+1]\n",
    "region_mask = ( (ufos['latitude']>=lat_min) & (ufos['latitude']<=lat_max) &\\\n",
    "              (ufos['longitude']>=long_min) & (ufos['longitude']<=long_max) )\n",
    "\n",
    "dur, dur_edges = np.histogram(ufos['year'][region_mask], \n",
    "                             weights=ufos['duration_seconds'][region_mask],\n",
    "                             bins=10)\n",
    "\n",
    "dur_hist = bqplot.Bars(x=dur_centers, y=dur, scales={'x':x_scl, 'y':y_scl})\n",
    "\n",
    "fig_dur = bqplot.Figure(marks=[dur_hist],axes=[ax_xcl,ax_ycl])"
   ]
  },
  {
   "cell_type": "code",
   "execution_count": 92,
   "id": "082daf1c",
   "metadata": {},
   "outputs": [],
   "source": [
    "# (III) LINKING GRIDHEATMAP TO BARPLOT\n",
    "selectedLabel = ipywidgets.Label()\n",
    "def get_data_value(change):\n",
    "    if len(change['owner'].selected) == 1: # only 1 selection allowed\n",
    "        i,j = change['owner'].selected[0]\n",
    "        v = hist2d[i,j]\n",
    "        selectedLabel.value = 'Total duration in log(sec)=' + str(v)\n",
    "        long_min = long_edges[j] # j is associated with y\n",
    "        long_max = long_edges[j+1]\n",
    "        lat_min = lat_edges[i] # i is associated with x\n",
    "        lat_max = lat_edges[i+1]\n",
    "        region_mask = ( (ufos['latitude']>=lat_min) & (ufos['latitude']<=lat_max) &\\\n",
    "              (ufos['longitude']>=long_min) & (ufos['longitude']<=long_max) )\n",
    "        if len(ufos['year'][region_mask])>0: # make sure we have data\n",
    "            dur, dur_edges = np.histogram(ufos['year'][region_mask], \n",
    "                                         weights=ufos['duration_seconds'][region_mask],\n",
    "                                         bins=10)     \n",
    "            dur_centers = (dur_edges[:-1]+dur_edges[1:])/2\n",
    "            dur_hist.x = dur_centers\n",
    "            dur_hist.y = dur\n",
    "            \n",
    "# make sure to link to the trait that is changing in the heat map\n",
    "heat_map.observe(get_data_value, 'selected')"
   ]
  },
  {
   "cell_type": "code",
   "execution_count": 93,
   "id": "ffc3a18d",
   "metadata": {},
   "outputs": [],
   "source": [
    "# (IV) LAYOUT OF DASHBOARD\n",
    "fig.layout.min_width='500px'\n",
    "fig_dur.layout.min_width='500px'\n",
    "figures = ipywidgets.HBox([fig, fig_dur])\n",
    "myDashboard = ipywidgets.VBox([selectedLabel, figures])"
   ]
  },
  {
   "cell_type": "code",
   "execution_count": 94,
   "id": "2a8b8047",
   "metadata": {},
   "outputs": [
    {
     "data": {
      "application/vnd.jupyter.widget-view+json": {
       "model_id": "0ea6cf14f05749d096a4b685d814630a",
       "version_major": 2,
       "version_minor": 0
      },
      "text/plain": [
       "VBox(children=(Label(value=''), HBox(children=(Figure(axes=[ColorAxis(orientation='vertical', scale=ColorScale…"
      ]
     },
     "metadata": {},
     "output_type": "display_data"
    }
   ],
   "source": [
    "myDashboard"
   ]
  },
  {
   "cell_type": "markdown",
   "id": "3287c160",
   "metadata": {},
   "source": [
    "# Homework hint!\n",
    "### One thing you might want to try for the homework is a pivot table. Here is an example dataframe that is similiar in \"shape\" to the homework data:"
   ]
  },
  {
   "cell_type": "code",
   "execution_count": 95,
   "id": "bf80f51f",
   "metadata": {},
   "outputs": [
    {
     "data": {
      "text/html": [
       "<div>\n",
       "<style scoped>\n",
       "    .dataframe tbody tr th:only-of-type {\n",
       "        vertical-align: middle;\n",
       "    }\n",
       "\n",
       "    .dataframe tbody tr th {\n",
       "        vertical-align: top;\n",
       "    }\n",
       "\n",
       "    .dataframe thead th {\n",
       "        text-align: right;\n",
       "    }\n",
       "</style>\n",
       "<table border=\"1\" class=\"dataframe\">\n",
       "  <thead>\n",
       "    <tr style=\"text-align: right;\">\n",
       "      <th></th>\n",
       "      <th>A</th>\n",
       "      <th>B</th>\n",
       "      <th>C</th>\n",
       "      <th>D</th>\n",
       "      <th>E</th>\n",
       "    </tr>\n",
       "  </thead>\n",
       "  <tbody>\n",
       "    <tr>\n",
       "      <th>0</th>\n",
       "      <td>foo</td>\n",
       "      <td>one</td>\n",
       "      <td>small</td>\n",
       "      <td>1</td>\n",
       "      <td>2</td>\n",
       "    </tr>\n",
       "    <tr>\n",
       "      <th>1</th>\n",
       "      <td>foo</td>\n",
       "      <td>one</td>\n",
       "      <td>large</td>\n",
       "      <td>2</td>\n",
       "      <td>4</td>\n",
       "    </tr>\n",
       "    <tr>\n",
       "      <th>2</th>\n",
       "      <td>foo</td>\n",
       "      <td>one</td>\n",
       "      <td>large</td>\n",
       "      <td>2</td>\n",
       "      <td>5</td>\n",
       "    </tr>\n",
       "    <tr>\n",
       "      <th>3</th>\n",
       "      <td>foo</td>\n",
       "      <td>two</td>\n",
       "      <td>small</td>\n",
       "      <td>3</td>\n",
       "      <td>5</td>\n",
       "    </tr>\n",
       "    <tr>\n",
       "      <th>4</th>\n",
       "      <td>foo</td>\n",
       "      <td>two</td>\n",
       "      <td>small</td>\n",
       "      <td>3</td>\n",
       "      <td>6</td>\n",
       "    </tr>\n",
       "    <tr>\n",
       "      <th>5</th>\n",
       "      <td>bar</td>\n",
       "      <td>one</td>\n",
       "      <td>large</td>\n",
       "      <td>4</td>\n",
       "      <td>6</td>\n",
       "    </tr>\n",
       "    <tr>\n",
       "      <th>6</th>\n",
       "      <td>bar</td>\n",
       "      <td>one</td>\n",
       "      <td>small</td>\n",
       "      <td>5</td>\n",
       "      <td>8</td>\n",
       "    </tr>\n",
       "    <tr>\n",
       "      <th>7</th>\n",
       "      <td>bar</td>\n",
       "      <td>two</td>\n",
       "      <td>small</td>\n",
       "      <td>6</td>\n",
       "      <td>9</td>\n",
       "    </tr>\n",
       "    <tr>\n",
       "      <th>8</th>\n",
       "      <td>bar</td>\n",
       "      <td>two</td>\n",
       "      <td>large</td>\n",
       "      <td>7</td>\n",
       "      <td>9</td>\n",
       "    </tr>\n",
       "  </tbody>\n",
       "</table>\n",
       "</div>"
      ],
      "text/plain": [
       "     A    B      C  D  E\n",
       "0  foo  one  small  1  2\n",
       "1  foo  one  large  2  4\n",
       "2  foo  one  large  2  5\n",
       "3  foo  two  small  3  5\n",
       "4  foo  two  small  3  6\n",
       "5  bar  one  large  4  6\n",
       "6  bar  one  small  5  8\n",
       "7  bar  two  small  6  9\n",
       "8  bar  two  large  7  9"
      ]
     },
     "execution_count": 95,
     "metadata": {},
     "output_type": "execute_result"
    }
   ],
   "source": [
    "df = pd.DataFrame({\"A\": [\"foo\", \"foo\", \"foo\", \"foo\", \"foo\",\n",
    "                         \"bar\", \"bar\", \"bar\", \"bar\"],\n",
    "                   \"B\": [\"one\", \"one\", \"one\", \"two\", \"two\",\n",
    "                         \"one\", \"one\", \"two\", \"two\"],\n",
    "                   \"C\": [\"small\", \"large\", \"large\", \"small\",\n",
    "                         \"small\", \"large\", \"small\", \"small\",\n",
    "                         \"large\"],\n",
    "                   \"D\": [1, 2, 2, 3, 3, 4, 5, 6, 7],\n",
    "                   \"E\": [2, 4, 5, 5, 6, 6, 8, 9, 9]})\n",
    "df"
   ]
  },
  {
   "cell_type": "code",
   "execution_count": null,
   "id": "403b6d51",
   "metadata": {},
   "outputs": [],
   "source": []
  }
 ],
 "metadata": {
  "kernelspec": {
   "display_name": "Python 3 (ipykernel)",
   "language": "python",
   "name": "python3"
  },
  "language_info": {
   "codemirror_mode": {
    "name": "ipython",
    "version": 3
   },
   "file_extension": ".py",
   "mimetype": "text/x-python",
   "name": "python",
   "nbconvert_exporter": "python",
   "pygments_lexer": "ipython3",
   "version": "3.7.12"
  }
 },
 "nbformat": 4,
 "nbformat_minor": 5
}
